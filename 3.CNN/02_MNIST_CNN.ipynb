{
 "cells": [
  {
   "cell_type": "markdown",
   "metadata": {},
   "source": [
    "# 이미지 인식 - 딥 러닝\n",
    "## MNIST 사례"
   ]
  },
  {
   "cell_type": "code",
   "execution_count": 1,
   "metadata": {},
   "outputs": [],
   "source": [
    "import numpy as np\n",
    "import tensorflow as tf\n",
    "from tensorflow import keras\n",
    "\n",
    "from tensorflow.keras.datasets import mnist\n",
    "from tensorflow.keras.models import Sequential\n",
    "from tensorflow.keras.layers import Dense, Dropout, Flatten, Conv2D, MaxPooling2D\n",
    "from tensorflow.keras.callbacks import ModelCheckpoint, EarlyStopping\n",
    "\n",
    "import os\n",
    "import matplotlib.pyplot as plt\n",
    "%matplotlib inline"
   ]
  },
  {
   "cell_type": "code",
   "execution_count": 2,
   "metadata": {},
   "outputs": [],
   "source": [
    "# seed 값 설정\n",
    "seed = 2020\n",
    "np.random.seed(seed)\n",
    "tf.random.set_seed(seed)"
   ]
  },
  {
   "cell_type": "code",
   "execution_count": 3,
   "metadata": {},
   "outputs": [],
   "source": [
    "# 데이터 불러오기\n",
    "(X_train, Y_train), (X_test, Y_test) = mnist.load_data()\n",
    "X_train = X_train.reshape(-1, 28, 28, 1).astype('float32') / 255\n",
    "X_test = X_test.reshape(-1, 28, 28, 1).astype('float32') / 255\n",
    "Y_train = tf.keras.utils.to_categorical(Y_train)\n",
    "Y_test = tf.keras.utils.to_categorical(Y_test)"
   ]
  },
  {
   "cell_type": "code",
   "execution_count": 4,
   "metadata": {},
   "outputs": [
    {
     "name": "stdout",
     "output_type": "stream",
     "text": [
      "Model: \"sequential\"\n",
      "_________________________________________________________________\n",
      "Layer (type)                 Output Shape              Param #   \n",
      "=================================================================\n",
      "conv2d (Conv2D)              (None, 26, 26, 32)        320       \n",
      "_________________________________________________________________\n",
      "conv2d_1 (Conv2D)            (None, 24, 24, 64)        18496     \n",
      "_________________________________________________________________\n",
      "max_pooling2d (MaxPooling2D) (None, 12, 12, 64)        0         \n",
      "_________________________________________________________________\n",
      "dropout (Dropout)            (None, 12, 12, 64)        0         \n",
      "_________________________________________________________________\n",
      "flatten (Flatten)            (None, 9216)              0         \n",
      "_________________________________________________________________\n",
      "dense (Dense)                (None, 128)               1179776   \n",
      "_________________________________________________________________\n",
      "dropout_1 (Dropout)          (None, 128)               0         \n",
      "_________________________________________________________________\n",
      "dense_1 (Dense)              (None, 10)                1290      \n",
      "=================================================================\n",
      "Total params: 1,199,882\n",
      "Trainable params: 1,199,882\n",
      "Non-trainable params: 0\n",
      "_________________________________________________________________\n"
     ]
    }
   ],
   "source": [
    "\n",
    "# 컨볼루션 신경망 설정\n",
    "model = Sequential([\n",
    "    Conv2D(32, kernel_size=(3, 3), input_shape=(28, 28, 1), activation='relu'),\n",
    "    Conv2D(64, (3, 3), activation='relu'),\n",
    "    MaxPooling2D(pool_size=2),\n",
    "    Dropout(0.25),\n",
    "    Flatten(),\n",
    "    Dense(128, activation='relu'),\n",
    "    Dropout(0.5),\n",
    "    Dense(10, activation='softmax')\n",
    "])\n",
    "model.summary()"
   ]
  },
  {
   "cell_type": "code",
   "execution_count": 5,
   "metadata": {},
   "outputs": [],
   "source": [
    "\n",
    "model.compile(loss='categorical_crossentropy',\n",
    "              optimizer='adam',\n",
    "              metrics=['accuracy'])"
   ]
  },
  {
   "cell_type": "code",
   "execution_count": 6,
   "metadata": {},
   "outputs": [],
   "source": [
    "# 모델 최적화 설정\n",
    "MODEL_DIR = './model/'\n",
    "if not os.path.exists(MODEL_DIR):\n",
    "    os.mkdir(MODEL_DIR)"
   ]
  },
  {
   "cell_type": "code",
   "execution_count": 7,
   "metadata": {},
   "outputs": [],
   "source": [
    "modelpath = MODEL_DIR + \"mnist-cnn-{epoch:02d}-{val_loss:.4f}.hdf5\"\n",
    "checkpointer = ModelCheckpoint(filepath=modelpath, monitor='val_loss', \n",
    "                               verbose=1, save_best_only=True)\n",
    "early_stopping_callback = EarlyStopping(monitor='val_loss', patience=10)"
   ]
  },
  {
   "cell_type": "code",
   "execution_count": 8,
   "metadata": {},
   "outputs": [
    {
     "name": "stdout",
     "output_type": "stream",
     "text": [
      "Train on 60000 samples, validate on 10000 samples\n",
      "Epoch 1/30\n",
      "59800/60000 [============================>.] - ETA: 0s - loss: 0.2679 - accuracy: 0.9183\n",
      "Epoch 00001: val_loss improved from inf to 0.05255, saving model to ./model/mnist-cnn-01-0.0525.hdf5\n",
      "60000/60000 [==============================] - 43s 715us/sample - loss: 0.2675 - accuracy: 0.9184 - val_loss: 0.0525 - val_accuracy: 0.9829\n",
      "Epoch 2/30\n",
      "59800/60000 [============================>.] - ETA: 0s - loss: 0.0886 - accuracy: 0.9735\n",
      "Epoch 00002: val_loss improved from 0.05255 to 0.03841, saving model to ./model/mnist-cnn-02-0.0384.hdf5\n",
      "60000/60000 [==============================] - 42s 701us/sample - loss: 0.0886 - accuracy: 0.9736 - val_loss: 0.0384 - val_accuracy: 0.9871\n",
      "Epoch 3/30\n",
      "59800/60000 [============================>.] - ETA: 0s - loss: 0.0642 - accuracy: 0.9809\n",
      "Epoch 00003: val_loss improved from 0.03841 to 0.03366, saving model to ./model/mnist-cnn-03-0.0337.hdf5\n",
      "60000/60000 [==============================] - 42s 703us/sample - loss: 0.0641 - accuracy: 0.9809 - val_loss: 0.0337 - val_accuracy: 0.9891\n",
      "Epoch 4/30\n",
      "59800/60000 [============================>.] - ETA: 0s - loss: 0.0541 - accuracy: 0.9837\n",
      "Epoch 00004: val_loss improved from 0.03366 to 0.02902, saving model to ./model/mnist-cnn-04-0.0290.hdf5\n",
      "60000/60000 [==============================] - 42s 705us/sample - loss: 0.0542 - accuracy: 0.9837 - val_loss: 0.0290 - val_accuracy: 0.9900\n",
      "Epoch 5/30\n",
      "59800/60000 [============================>.] - ETA: 0s - loss: 0.0443 - accuracy: 0.9861\n",
      "Epoch 00005: val_loss did not improve from 0.02902\n",
      "60000/60000 [==============================] - 42s 705us/sample - loss: 0.0442 - accuracy: 0.9862 - val_loss: 0.0319 - val_accuracy: 0.9897\n",
      "Epoch 6/30\n",
      "59800/60000 [============================>.] - ETA: 0s - loss: 0.0388 - accuracy: 0.9879\n",
      "Epoch 00006: val_loss improved from 0.02902 to 0.02810, saving model to ./model/mnist-cnn-06-0.0281.hdf5\n",
      "60000/60000 [==============================] - 42s 701us/sample - loss: 0.0387 - accuracy: 0.9879 - val_loss: 0.0281 - val_accuracy: 0.9909\n",
      "Epoch 7/30\n",
      "59800/60000 [============================>.] - ETA: 0s - loss: 0.0336 - accuracy: 0.9895\n",
      "Epoch 00007: val_loss did not improve from 0.02810\n",
      "60000/60000 [==============================] - 42s 707us/sample - loss: 0.0336 - accuracy: 0.9895 - val_loss: 0.0306 - val_accuracy: 0.9910\n",
      "Epoch 8/30\n",
      "59800/60000 [============================>.] - ETA: 0s - loss: 0.0314 - accuracy: 0.9900\n",
      "Epoch 00008: val_loss improved from 0.02810 to 0.02727, saving model to ./model/mnist-cnn-08-0.0273.hdf5\n",
      "60000/60000 [==============================] - 42s 703us/sample - loss: 0.0313 - accuracy: 0.9900 - val_loss: 0.0273 - val_accuracy: 0.9924\n",
      "Epoch 9/30\n",
      "59800/60000 [============================>.] - ETA: 0s - loss: 0.0271 - accuracy: 0.9913\n",
      "Epoch 00009: val_loss did not improve from 0.02727\n",
      "60000/60000 [==============================] - 42s 698us/sample - loss: 0.0272 - accuracy: 0.9913 - val_loss: 0.0305 - val_accuracy: 0.9908\n",
      "Epoch 10/30\n",
      "59800/60000 [============================>.] - ETA: 0s - loss: 0.0245 - accuracy: 0.9918\n",
      "Epoch 00010: val_loss did not improve from 0.02727\n",
      "60000/60000 [==============================] - 42s 698us/sample - loss: 0.0246 - accuracy: 0.9918 - val_loss: 0.0314 - val_accuracy: 0.9905\n",
      "Epoch 11/30\n",
      "59800/60000 [============================>.] - ETA: 0s - loss: 0.0242 - accuracy: 0.9921\n",
      "Epoch 00011: val_loss did not improve from 0.02727\n",
      "60000/60000 [==============================] - 42s 700us/sample - loss: 0.0242 - accuracy: 0.9921 - val_loss: 0.0300 - val_accuracy: 0.9913\n",
      "Epoch 12/30\n",
      "59800/60000 [============================>.] - ETA: 0s - loss: 0.0242 - accuracy: 0.9917\n",
      "Epoch 00012: val_loss did not improve from 0.02727\n",
      "60000/60000 [==============================] - 42s 695us/sample - loss: 0.0242 - accuracy: 0.9917 - val_loss: 0.0291 - val_accuracy: 0.9928\n",
      "Epoch 13/30\n",
      "59800/60000 [============================>.] - ETA: 0s - loss: 0.0196 - accuracy: 0.9940\n",
      "Epoch 00013: val_loss did not improve from 0.02727\n",
      "60000/60000 [==============================] - 42s 696us/sample - loss: 0.0196 - accuracy: 0.9940 - val_loss: 0.0311 - val_accuracy: 0.9912\n",
      "Epoch 14/30\n",
      "59800/60000 [============================>.] - ETA: 0s - loss: 0.0193 - accuracy: 0.9940\n",
      "Epoch 00014: val_loss did not improve from 0.02727\n",
      "60000/60000 [==============================] - 42s 694us/sample - loss: 0.0193 - accuracy: 0.9940 - val_loss: 0.0284 - val_accuracy: 0.9922\n",
      "Epoch 15/30\n",
      "59800/60000 [============================>.] - ETA: 0s - loss: 0.0181 - accuracy: 0.9938\n",
      "Epoch 00015: val_loss did not improve from 0.02727\n",
      "60000/60000 [==============================] - 42s 702us/sample - loss: 0.0181 - accuracy: 0.9938 - val_loss: 0.0325 - val_accuracy: 0.9913\n",
      "Epoch 16/30\n",
      "59800/60000 [============================>.] - ETA: 0s - loss: 0.0165 - accuracy: 0.9946\n",
      "Epoch 00016: val_loss did not improve from 0.02727\n",
      "60000/60000 [==============================] - 42s 695us/sample - loss: 0.0166 - accuracy: 0.9946 - val_loss: 0.0313 - val_accuracy: 0.9917\n",
      "Epoch 17/30\n",
      "59800/60000 [============================>.] - ETA: 0s - loss: 0.0163 - accuracy: 0.9942\n",
      "Epoch 00017: val_loss did not improve from 0.02727\n",
      "60000/60000 [==============================] - 42s 696us/sample - loss: 0.0164 - accuracy: 0.9942 - val_loss: 0.0292 - val_accuracy: 0.9929\n",
      "Epoch 18/30\n",
      "59800/60000 [============================>.] - ETA: 0s - loss: 0.0160 - accuracy: 0.9946\n",
      "Epoch 00018: val_loss did not improve from 0.02727\n",
      "60000/60000 [==============================] - 42s 706us/sample - loss: 0.0160 - accuracy: 0.9946 - val_loss: 0.0307 - val_accuracy: 0.9917\n"
     ]
    }
   ],
   "source": [
    "# 모델의 실행\n",
    "history = model.fit(X_train, Y_train, validation_data=(X_test, Y_test), epochs=30,\n",
    "                    batch_size=200, #epochs=5, verbose=2, \n",
    "                    callbacks=[early_stopping_callback, checkpointer])"
   ]
  },
  {
   "cell_type": "code",
   "execution_count": 20,
   "metadata": {},
   "outputs": [],
   "source": [
    "del model"
   ]
  },
  {
   "cell_type": "code",
   "execution_count": 21,
   "metadata": {},
   "outputs": [],
   "source": [
    "from tensorflow.keras.models import load_model\n",
    "model = load_model('model/mnist-cnn-08-0.0273.hdf5')"
   ]
  },
  {
   "cell_type": "code",
   "execution_count": 22,
   "metadata": {},
   "outputs": [
    {
     "name": "stdout",
     "output_type": "stream",
     "text": [
      "\n",
      " Test Accuracy : 0.9924\n"
     ]
    }
   ],
   "source": [
    "# 테스트 정확도 출력\n",
    "print(\"\\n Test Accuracy : %.4f\" % (model.evaluate(X_test, Y_test, verbose = 0)[1]))"
   ]
  },
  {
   "cell_type": "code",
   "execution_count": 23,
   "metadata": {},
   "outputs": [],
   "source": [
    "# 테스트셋의 오차\n",
    "y_vloss = history.history['val_loss']\n",
    "\n",
    "#학습셋의 오차\n",
    "y_loss = history.history['loss']"
   ]
  },
  {
   "cell_type": "code",
   "execution_count": 26,
   "metadata": {},
   "outputs": [
    {
     "data": {
      "image/png": "[encoded data removed]",
      "text/plain": [
       "<Figure size 576x432 with 1 Axes>"
      ]
     },
     "metadata": {
      "needs_background": "light"
     },
     "output_type": "display_data"
    }
   ],
   "source": [
    "# 그래프로 표현\n",
    "x_len = np.arange(1, len(y_loss)+1)\n",
    "plt.figure(figsize=(8,6))\n",
    "plt.plot(x_len, y_vloss, marker='.', c=\"red\", label='Testset_loss')\n",
    "plt.plot(x_len, y_loss, marker='.', c=\"blue\", label='Trainset_loss')\n",
    "\n",
    "# 그래프에 그리드를 주고 레이블을 표시\n",
    "plt.legend(loc='upper right')\n",
    "# plt.axis([0, 20, 0, 0.35])\n",
    "plt.grid()\n",
    "plt.xlabel('epoch')\n",
    "plt.ylabel('loss')\n",
    "plt.show()"
   ]
  },
  {
   "cell_type": "markdown",
   "metadata": {},
   "source": [
    "###  결론 : Best Model은 Epoch 08, 정확도는 99.24%"
   ]
  },
  {
   "cell_type": "code",
   "execution_count": null,
   "metadata": {},
   "outputs": [],
   "source": []
  },
  {
   "cell_type": "code",
   "execution_count": null,
   "metadata": {},
   "outputs": [],
   "source": []
  },
  {
   "cell_type": "code",
   "execution_count": null,
   "metadata": {},
   "outputs": [],
   "source": []
  }
 ],
 "metadata": {
  "kernelspec": {
   "display_name": "Python 3",
   "language": "python",
   "name": "python3"
  },
  "language_info": {
   "codemirror_mode": {
    "name": "ipython",
    "version": 3
   },
   "file_extension": ".py",
   "mimetype": "text/x-python",
   "name": "python",
   "nbconvert_exporter": "python",
   "pygments_lexer": "ipython3",
   "version": "3.7.7"
  }
 },
 "nbformat": 4,
 "nbformat_minor": 4
}
