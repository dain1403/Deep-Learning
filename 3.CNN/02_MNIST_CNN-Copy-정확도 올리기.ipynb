{
 "cells": [
  {
   "cell_type": "markdown",
   "metadata": {},
   "source": [
    "# 이미지 인식 - 딥 러닝\n",
    "## MNIST 사례"
   ]
  },
  {
   "cell_type": "code",
   "execution_count": 2,
   "metadata": {},
   "outputs": [],
   "source": [
    "import numpy as np\n",
    "import tensorflow as tf\n",
    "from tensorflow import keras\n",
    "\n",
    "from tensorflow.keras.datasets import mnist\n",
    "from tensorflow.keras.models import Sequential\n",
    "from tensorflow.keras.layers import Dense, Dropout, Flatten, Conv2D, MaxPooling2D\n",
    "from tensorflow.keras.callbacks import ModelCheckpoint, EarlyStopping\n",
    "\n",
    "import os\n",
    "import matplotlib.pyplot as plt\n",
    "%matplotlib inline"
   ]
  },
  {
   "cell_type": "code",
   "execution_count": 3,
   "metadata": {},
   "outputs": [],
   "source": [
    "# seed 값 설정\n",
    "seed = 2020\n",
    "np.random.seed(seed)\n",
    "tf.random.set_seed(seed)"
   ]
  },
  {
   "cell_type": "code",
   "execution_count": 4,
   "metadata": {},
   "outputs": [],
   "source": [
    "# 데이터 불러오기\n",
    "(X_train, Y_train), (X_test, Y_test) = mnist.load_data()\n",
    "X_train = X_train.reshape(-1, 28, 28, 1).astype('float32') / 255\n",
    "X_test = X_test.reshape(-1, 28, 28, 1).astype('float32') / 255\n",
    "Y_train = tf.keras.utils.to_categorical(Y_train)\n",
    "Y_test = tf.keras.utils.to_categorical(Y_test)"
   ]
  },
  {
   "cell_type": "code",
   "execution_count": 5,
   "metadata": {},
   "outputs": [
    {
     "name": "stdout",
     "output_type": "stream",
     "text": [
      "Model: \"sequential\"\n",
      "_________________________________________________________________\n",
      "Layer (type)                 Output Shape              Param #   \n",
      "=================================================================\n",
      "conv2d (Conv2D)              (None, 26, 26, 32)        320       \n",
      "_________________________________________________________________\n",
      "conv2d_1 (Conv2D)            (None, 24, 24, 64)        18496     \n",
      "_________________________________________________________________\n",
      "max_pooling2d (MaxPooling2D) (None, 12, 12, 64)        0         \n",
      "_________________________________________________________________\n",
      "dropout (Dropout)            (None, 12, 12, 64)        0         \n",
      "_________________________________________________________________\n",
      "flatten (Flatten)            (None, 9216)              0         \n",
      "_________________________________________________________________\n",
      "dense (Dense)                (None, 128)               1179776   \n",
      "_________________________________________________________________\n",
      "dropout_1 (Dropout)          (None, 128)               0         \n",
      "_________________________________________________________________\n",
      "dense_1 (Dense)              (None, 10)                1290      \n",
      "=================================================================\n",
      "Total params: 1,199,882\n",
      "Trainable params: 1,199,882\n",
      "Non-trainable params: 0\n",
      "_________________________________________________________________\n"
     ]
    }
   ],
   "source": [
    "\n",
    "# 컨볼루션 신경망 설정\n",
    "model = Sequential([\n",
    "    Conv2D(32, kernel_size=(3, 3), input_shape=(28, 28, 1), activation='relu'),\n",
    "    Conv2D(64, (3, 3), activation='relu'),\n",
    "    MaxPooling2D(pool_size=2),\n",
    "    Dropout(0.25),\n",
    "    Flatten(),\n",
    "    Dense(128, activation='relu'),\n",
    "    Dropout(0.5),\n",
    "    Dense(10, activation='softmax')\n",
    "])\n",
    "model.summary()"
   ]
  },
  {
   "cell_type": "code",
   "execution_count": 6,
   "metadata": {},
   "outputs": [],
   "source": [
    "\n",
    "model.compile(loss='categorical_crossentropy',\n",
    "              optimizer='adam',\n",
    "              metrics=['accuracy'])"
   ]
  },
  {
   "cell_type": "code",
   "execution_count": 7,
   "metadata": {},
   "outputs": [],
   "source": [
    "# 모델 최적화 설정\n",
    "MODEL_DIR = './model/'\n",
    "if not os.path.exists(MODEL_DIR):\n",
    "    os.mkdir(MODEL_DIR)"
   ]
  },
  {
   "cell_type": "code",
   "execution_count": 8,
   "metadata": {},
   "outputs": [],
   "source": [
    "modelpath = MODEL_DIR + \"mnist-cnn-{epoch:02d}-{val_loss:.4f}.hdf5\"\n",
    "checkpointer = ModelCheckpoint(filepath=modelpath, monitor='val_loss', \n",
    "                               verbose=1, save_best_only=True)\n",
    "early_stopping_callback = EarlyStopping(monitor='val_loss', patience=10)"
   ]
  },
  {
   "cell_type": "code",
   "execution_count": 9,
   "metadata": {},
   "outputs": [
    {
     "name": "stdout",
     "output_type": "stream",
     "text": [
      "Train on 60000 samples, validate on 10000 samples\n",
      "Epoch 1/30\n",
      "59840/60000 [============================>.] - ETA: 0s - loss: 0.2494 - accuracy: 0.9245\n",
      "Epoch 00001: val_loss improved from inf to 0.05082, saving model to ./model/mnist-cnn-01-0.0508.hdf5\n",
      "60000/60000 [==============================] - 43s 715us/sample - loss: 0.2490 - accuracy: 0.9246 - val_loss: 0.0508 - val_accuracy: 0.9836\n",
      "Epoch 2/30\n",
      "59840/60000 [============================>.] - ETA: 0s - loss: 0.0846 - accuracy: 0.9752\n",
      "Epoch 00002: val_loss improved from 0.05082 to 0.03834, saving model to ./model/mnist-cnn-02-0.0383.hdf5\n",
      "60000/60000 [==============================] - 42s 704us/sample - loss: 0.0845 - accuracy: 0.9752 - val_loss: 0.0383 - val_accuracy: 0.9878\n",
      "Epoch 3/30\n",
      "59840/60000 [============================>.] - ETA: 0s - loss: 0.0618 - accuracy: 0.9818\n",
      "Epoch 00003: val_loss improved from 0.03834 to 0.03340, saving model to ./model/mnist-cnn-03-0.0334.hdf5\n",
      "60000/60000 [==============================] - 43s 714us/sample - loss: 0.0617 - accuracy: 0.9819 - val_loss: 0.0334 - val_accuracy: 0.9882\n",
      "Epoch 4/30\n",
      "59840/60000 [============================>.] - ETA: 0s - loss: 0.0500 - accuracy: 0.9847\n",
      "Epoch 00004: val_loss improved from 0.03340 to 0.02932, saving model to ./model/mnist-cnn-04-0.0293.hdf5\n",
      "60000/60000 [==============================] - 43s 711us/sample - loss: 0.0502 - accuracy: 0.9847 - val_loss: 0.0293 - val_accuracy: 0.9901\n",
      "Epoch 5/30\n",
      "59840/60000 [============================>.] - ETA: 0s - loss: 0.0444 - accuracy: 0.9861\n",
      "Epoch 00005: val_loss improved from 0.02932 to 0.02799, saving model to ./model/mnist-cnn-05-0.0280.hdf5\n",
      "60000/60000 [==============================] - 42s 707us/sample - loss: 0.0445 - accuracy: 0.9861 - val_loss: 0.0280 - val_accuracy: 0.9896\n",
      "Epoch 6/30\n",
      "59840/60000 [============================>.] - ETA: 0s - loss: 0.0362 - accuracy: 0.9886\n",
      "Epoch 00006: val_loss improved from 0.02799 to 0.02600, saving model to ./model/mnist-cnn-06-0.0260.hdf5\n",
      "60000/60000 [==============================] - 43s 720us/sample - loss: 0.0362 - accuracy: 0.9886 - val_loss: 0.0260 - val_accuracy: 0.9918\n",
      "Epoch 7/30\n",
      "59840/60000 [============================>.] - ETA: 0s - loss: 0.0331 - accuracy: 0.9893\n",
      "Epoch 00007: val_loss did not improve from 0.02600\n",
      "60000/60000 [==============================] - 43s 715us/sample - loss: 0.0331 - accuracy: 0.9894 - val_loss: 0.0269 - val_accuracy: 0.9913\n",
      "Epoch 8/30\n",
      "59840/60000 [============================>.] - ETA: 0s - loss: 0.0291 - accuracy: 0.9906\n",
      "Epoch 00008: val_loss improved from 0.02600 to 0.02575, saving model to ./model/mnist-cnn-08-0.0258.hdf5\n",
      "60000/60000 [==============================] - 42s 706us/sample - loss: 0.0290 - accuracy: 0.9906 - val_loss: 0.0258 - val_accuracy: 0.9919\n",
      "Epoch 9/30\n",
      "59840/60000 [============================>.] - ETA: 0s - loss: 0.0277 - accuracy: 0.9911\n",
      "Epoch 00009: val_loss did not improve from 0.02575\n",
      "60000/60000 [==============================] - 42s 707us/sample - loss: 0.0277 - accuracy: 0.9911 - val_loss: 0.0273 - val_accuracy: 0.9915\n",
      "Epoch 10/30\n",
      "59840/60000 [============================>.] - ETA: 0s - loss: 0.0237 - accuracy: 0.9917\n",
      "Epoch 00010: val_loss did not improve from 0.02575\n",
      "60000/60000 [==============================] - 42s 704us/sample - loss: 0.0237 - accuracy: 0.9917 - val_loss: 0.0271 - val_accuracy: 0.9920\n",
      "Epoch 11/30\n",
      "59840/60000 [============================>.] - ETA: 0s - loss: 0.0235 - accuracy: 0.9920\n",
      "Epoch 00011: val_loss improved from 0.02575 to 0.02553, saving model to ./model/mnist-cnn-11-0.0255.hdf5\n",
      "60000/60000 [==============================] - 43s 722us/sample - loss: 0.0235 - accuracy: 0.9920 - val_loss: 0.0255 - val_accuracy: 0.9925\n",
      "Epoch 12/30\n",
      "59840/60000 [============================>.] - ETA: 0s - loss: 0.0207 - accuracy: 0.9934\n",
      "Epoch 00012: val_loss improved from 0.02553 to 0.02451, saving model to ./model/mnist-cnn-12-0.0245.hdf5\n",
      "60000/60000 [==============================] - 45s 742us/sample - loss: 0.0206 - accuracy: 0.9934 - val_loss: 0.0245 - val_accuracy: 0.9931\n",
      "Epoch 13/30\n",
      "59840/60000 [============================>.] - ETA: 0s - loss: 0.0208 - accuracy: 0.9931\n",
      "Epoch 00013: val_loss did not improve from 0.02451\n",
      "60000/60000 [==============================] - 44s 732us/sample - loss: 0.0208 - accuracy: 0.9931 - val_loss: 0.0327 - val_accuracy: 0.9907\n",
      "Epoch 14/30\n",
      "59840/60000 [============================>.] - ETA: 0s - loss: 0.0171 - accuracy: 0.9945\n",
      "Epoch 00014: val_loss did not improve from 0.02451\n",
      "60000/60000 [==============================] - 44s 727us/sample - loss: 0.0171 - accuracy: 0.9945 - val_loss: 0.0274 - val_accuracy: 0.9922\n",
      "Epoch 15/30\n",
      "59840/60000 [============================>.] - ETA: 0s - loss: 0.0174 - accuracy: 0.9942\n",
      "Epoch 00015: val_loss did not improve from 0.02451\n",
      "60000/60000 [==============================] - 44s 729us/sample - loss: 0.0174 - accuracy: 0.9942 - val_loss: 0.0311 - val_accuracy: 0.9921\n",
      "Epoch 16/30\n",
      "59840/60000 [============================>.] - ETA: 0s - loss: 0.0167 - accuracy: 0.9944\n",
      "Epoch 00016: val_loss did not improve from 0.02451\n",
      "60000/60000 [==============================] - 44s 736us/sample - loss: 0.0167 - accuracy: 0.9944 - val_loss: 0.0249 - val_accuracy: 0.9934\n",
      "Epoch 17/30\n",
      "59840/60000 [============================>.] - ETA: 0s - loss: 0.0150 - accuracy: 0.9950\n",
      "Epoch 00017: val_loss did not improve from 0.02451\n",
      "60000/60000 [==============================] - 44s 733us/sample - loss: 0.0150 - accuracy: 0.9949 - val_loss: 0.0254 - val_accuracy: 0.9933\n",
      "Epoch 18/30\n",
      "59840/60000 [============================>.] - ETA: 0s - loss: 0.0146 - accuracy: 0.9947\n",
      "Epoch 00018: val_loss did not improve from 0.02451\n",
      "60000/60000 [==============================] - 44s 732us/sample - loss: 0.0146 - accuracy: 0.9947 - val_loss: 0.0254 - val_accuracy: 0.9930\n",
      "Epoch 19/30\n",
      "59840/60000 [============================>.] - ETA: 0s - loss: 0.0122 - accuracy: 0.9958\n",
      "Epoch 00019: val_loss did not improve from 0.02451\n",
      "60000/60000 [==============================] - 45s 743us/sample - loss: 0.0124 - accuracy: 0.9958 - val_loss: 0.0267 - val_accuracy: 0.9926\n",
      "Epoch 20/30\n",
      "59840/60000 [============================>.] - ETA: 0s - loss: 0.0143 - accuracy: 0.9950\n",
      "Epoch 00020: val_loss did not improve from 0.02451\n",
      "60000/60000 [==============================] - 45s 751us/sample - loss: 0.0144 - accuracy: 0.9950 - val_loss: 0.0266 - val_accuracy: 0.9935\n",
      "Epoch 21/30\n",
      "59840/60000 [============================>.] - ETA: 0s - loss: 0.0117 - accuracy: 0.9959\n",
      "Epoch 00021: val_loss did not improve from 0.02451\n",
      "60000/60000 [==============================] - 43s 711us/sample - loss: 0.0116 - accuracy: 0.9959 - val_loss: 0.0339 - val_accuracy: 0.9923\n",
      "Epoch 22/30\n",
      "59840/60000 [============================>.] - ETA: 0s - loss: 0.0116 - accuracy: 0.9961\n",
      "Epoch 00022: val_loss did not improve from 0.02451\n",
      "60000/60000 [==============================] - 43s 710us/sample - loss: 0.0117 - accuracy: 0.9961 - val_loss: 0.0361 - val_accuracy: 0.9914\n"
     ]
    }
   ],
   "source": [
    "# 모델의 실행\n",
    "history = model.fit(X_train, Y_train, validation_data=(X_test, Y_test), epochs=30,\n",
    "                    batch_size=160, #epochs=5, verbose=2, \n",
    "                    callbacks=[early_stopping_callback, checkpointer])"
   ]
  },
  {
   "cell_type": "code",
   "execution_count": 10,
   "metadata": {},
   "outputs": [],
   "source": [
    "del model"
   ]
  },
  {
   "cell_type": "code",
   "execution_count": 11,
   "metadata": {},
   "outputs": [],
   "source": [
    "from tensorflow.keras.models import load_model\n",
    "model = load_model('model/mnist-cnn-12-0.0245.hdf5')"
   ]
  },
  {
   "cell_type": "code",
   "execution_count": 12,
   "metadata": {},
   "outputs": [
    {
     "name": "stdout",
     "output_type": "stream",
     "text": [
      "\n",
      " Test Accuracy : 0.9931\n"
     ]
    }
   ],
   "source": [
    "# 테스트 정확도 출력\n",
    "print(\"\\n Test Accuracy : %.4f\" % (model.evaluate(X_test, Y_test, verbose = 0)[1]))"
   ]
  },
  {
   "cell_type": "code",
   "execution_count": 13,
   "metadata": {},
   "outputs": [],
   "source": [
    "# 테스트셋의 오차\n",
    "y_vloss = history.history['val_loss']\n",
    "\n",
    "#학습셋의 오차\n",
    "y_loss = history.history['loss']"
   ]
  },
  {
   "cell_type": "code",
   "execution_count": 14,
   "metadata": {},
   "outputs": [
    {
     "data": {
      "image/png": "[encoded data removed]",
      "text/plain": [
       "<Figure size 576x432 with 1 Axes>"
      ]
     },
     "metadata": {
      "needs_background": "light"
     },
     "output_type": "display_data"
    }
   ],
   "source": [
    "# 그래프로 표현\n",
    "x_len = np.arange(1, len(y_loss)+1)\n",
    "plt.figure(figsize=(8,6))\n",
    "plt.plot(x_len, y_vloss, marker='.', c=\"red\", label='Testset_loss')\n",
    "plt.plot(x_len, y_loss, marker='.', c=\"blue\", label='Trainset_loss')\n",
    "\n",
    "# 그래프에 그리드를 주고 레이블을 표시\n",
    "plt.legend(loc='upper right')\n",
    "# plt.axis([0, 20, 0, 0.35])\n",
    "plt.grid()\n",
    "plt.xlabel('epoch')\n",
    "plt.ylabel('loss')\n",
    "plt.show()"
   ]
  },
  {
   "cell_type": "markdown",
   "metadata": {},
   "source": [
    "###  결론 : Best Model은 Epoch 08, 정확도는 99.31%"
   ]
  },
  {
   "cell_type": "code",
   "execution_count": null,
   "metadata": {},
   "outputs": [],
   "source": []
  },
  {
   "cell_type": "code",
   "execution_count": null,
   "metadata": {},
   "outputs": [],
   "source": []
  },
  {
   "cell_type": "code",
   "execution_count": null,
   "metadata": {},
   "outputs": [],
   "source": []
  },
  {
   "cell_type": "code",
   "execution_count": null,
   "metadata": {},
   "outputs": [],
   "source": []
  }
 ],
 "metadata": {
  "kernelspec": {
   "display_name": "Python 3",
   "language": "python",
   "name": "python3"
  },
  "language_info": {
   "codemirror_mode": {
    "name": "ipython",
    "version": 3
   },
   "file_extension": ".py",
   "mimetype": "text/x-python",
   "name": "python",
   "nbconvert_exporter": "python",
   "pygments_lexer": "ipython3",
   "version": "3.7.7"
  }
 },
 "nbformat": 4,
 "nbformat_minor": 4
}
