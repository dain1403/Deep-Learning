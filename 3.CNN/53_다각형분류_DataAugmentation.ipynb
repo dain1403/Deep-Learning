{
 "cells": [
  {
   "cell_type": "markdown",
   "metadata": {
    "colab_type": "text",
    "id": "3rG34xrNgE7I"
   },
   "source": [
    "# 원, 삼각형, 사각형 구분하기\n",
    "## 3. Data Augmentation을 사용한 CNN 모델"
   ]
  },
  {
   "cell_type": "code",
   "execution_count": null,
   "metadata": {},
   "outputs": [],
   "source": [
    "# 참고 : https://tykimos.github.io/2017/06/10/CNN_Data_Augmentation/"
   ]
  },
  {
   "cell_type": "code",
   "execution_count": 1,
   "metadata": {
    "colab": {},
    "colab_type": "code",
    "id": "bwA2Lk7gilA1"
   },
   "outputs": [
    {
     "name": "stderr",
     "output_type": "stream",
     "text": [
      "Using TensorFlow backend.\n"
     ]
    }
   ],
   "source": [
    "import numpy as np\n",
    "import tensorflow as tf\n",
    "from tensorflow import keras\n",
    "from keras.models import Sequential\n",
    "from keras.layers import Dense, Flatten, Conv2D, MaxPooling2D\n",
    "from keras.preprocessing.image import ImageDataGenerator"
   ]
  },
  {
   "cell_type": "code",
   "execution_count": 2,
   "metadata": {},
   "outputs": [],
   "source": [
    "# seed 값 설정\n",
    "seed = 2020\n",
    "np.random.seed(seed)\n",
    "tf.random.set_seed(seed)"
   ]
  },
  {
   "cell_type": "markdown",
   "metadata": {
    "colab_type": "text",
    "id": "SjsMBcR0pnzv"
   },
   "source": [
    "### 데이터 부풀리기(Augmentation)"
   ]
  },
  {
   "cell_type": "code",
   "execution_count": 3,
   "metadata": {
    "colab": {},
    "colab_type": "code",
    "id": "aXdBt1YT11ud"
   },
   "outputs": [],
   "source": [
    "from keras.preprocessing.image import array_to_img, img_to_array, load_img"
   ]
  },
  {
   "cell_type": "code",
   "execution_count": 4,
   "metadata": {},
   "outputs": [],
   "source": [
    "# 데이터 부풀리기를 적용한 훈련 데이터 제너레이터\n",
    "train_datagen = ImageDataGenerator(rescale=1./255, \n",
    "                                   rotation_range=15,\n",
    "                                   width_shift_range=0.1,\n",
    "                                   height_shift_range=0.1,\n",
    "                                   shear_range=0.5,\n",
    "                                   zoom_range=[0.8, 2.0],\n",
    "                                   horizontal_flip=True,\n",
    "                                   vertical_flip=True,\n",
    "                                   fill_mode='nearest')"
   ]
  },
  {
   "cell_type": "code",
   "execution_count": 6,
   "metadata": {
    "colab": {},
    "colab_type": "code",
    "id": "9Ffv4Qcfkxd0"
   },
   "outputs": [],
   "source": [
    "img = load_img('hard_handwriting_shape/train/triangle/triangle001.png')\n",
    "x = img_to_array(img)\n",
    "x = x.reshape((1,) + x.shape)\n",
    "\n",
    "i = 0\n",
    "\n",
    "# 무한 for loop이니 주의!!!\n",
    "## cnn파일에 preview파일 만듦\n",
    "for batch in train_datagen.flow(x, batch_size=1, save_to_dir='preview', \n",
    "                                save_prefix='tri', save_format='png'):\n",
    "    i += 1\n",
    "    if i > 30: \n",
    "        break"
   ]
  },
  {
   "cell_type": "markdown",
   "metadata": {
    "colab_type": "text",
    "id": "2VFAvDns3n9d"
   },
   "source": [
    "### 데이터셋 생성하기"
   ]
  },
  {
   "cell_type": "code",
   "execution_count": 7,
   "metadata": {
    "colab": {
     "base_uri": "https://localhost:8080/",
     "height": 53
    },
    "colab_type": "code",
    "id": "g8ZZac3U3nWj",
    "outputId": "d6911fa9-f142-489d-aaac-c442e2a563b1"
   },
   "outputs": [
    {
     "name": "stdout",
     "output_type": "stream",
     "text": [
      "Found 45 images belonging to 3 classes.\n",
      "Found 15 images belonging to 3 classes.\n"
     ]
    }
   ],
   "source": [
    "train_generator = train_datagen.flow_from_directory(\n",
    "        'hard_handwriting_shape/train',\n",
    "        target_size=(24, 24),\n",
    "        batch_size=3,\n",
    "        class_mode='categorical')\n",
    "\n",
    "test_datagen = ImageDataGenerator(rescale=1./255)\n",
    "\n",
    "test_generator = test_datagen.flow_from_directory(\n",
    "        'hard_handwriting_shape/test',\n",
    "        target_size=(24, 24),    \n",
    "        batch_size=3,\n",
    "        class_mode='categorical')"
   ]
  },
  {
   "cell_type": "markdown",
   "metadata": {
    "colab_type": "text",
    "id": "K88bSm6wpwsK"
   },
   "source": [
    "### 모델 구성하기"
   ]
  },
  {
   "cell_type": "code",
   "execution_count": 8,
   "metadata": {
    "colab": {
     "base_uri": "https://localhost:8080/",
     "height": 377
    },
    "colab_type": "code",
    "id": "G5TOCJzIpVfR",
    "outputId": "50fcbc1c-f6b5-4923-9e24-0e29f5da5f38"
   },
   "outputs": [
    {
     "name": "stdout",
     "output_type": "stream",
     "text": [
      "Model: \"sequential_1\"\n",
      "_________________________________________________________________\n",
      "Layer (type)                 Output Shape              Param #   \n",
      "=================================================================\n",
      "conv2d_1 (Conv2D)            (None, 22, 22, 32)        896       \n",
      "_________________________________________________________________\n",
      "conv2d_2 (Conv2D)            (None, 20, 20, 64)        18496     \n",
      "_________________________________________________________________\n",
      "max_pooling2d_1 (MaxPooling2 (None, 10, 10, 64)        0         \n",
      "_________________________________________________________________\n",
      "flatten_1 (Flatten)          (None, 6400)              0         \n",
      "_________________________________________________________________\n",
      "dense_1 (Dense)              (None, 128)               819328    \n",
      "_________________________________________________________________\n",
      "dense_2 (Dense)              (None, 3)                 387       \n",
      "=================================================================\n",
      "Total params: 839,107\n",
      "Trainable params: 839,107\n",
      "Non-trainable params: 0\n",
      "_________________________________________________________________\n"
     ]
    }
   ],
   "source": [
    "model = Sequential()\n",
    "model.add(Conv2D(32, kernel_size=(3, 3),\n",
    "                 activation='relu', input_shape=(24,24,3)))\n",
    "model.add(Conv2D(64, (3, 3), activation='relu'))\n",
    "model.add(MaxPooling2D(pool_size=(2, 2)))\n",
    "model.add(Flatten())\n",
    "model.add(Dense(128, activation='relu'))\n",
    "model.add(Dense(3, activation='softmax'))\n",
    "model.summary()"
   ]
  },
  {
   "cell_type": "markdown",
   "metadata": {
    "colab_type": "text",
    "id": "wrjhuhJ2tEeA"
   },
   "source": [
    "### 모델 학습과정 설정하기"
   ]
  },
  {
   "cell_type": "code",
   "execution_count": 9,
   "metadata": {
    "colab": {},
    "colab_type": "code",
    "id": "hBUFfHV6sSRW"
   },
   "outputs": [],
   "source": [
    "model.compile(loss='categorical_crossentropy', \n",
    "              optimizer='adam', metrics=['accuracy'])"
   ]
  },
  {
   "cell_type": "markdown",
   "metadata": {
    "colab_type": "text",
    "id": "sZ_WQ05itPr9"
   },
   "source": [
    "### 모델 학습시키기\n",
    "- 첫번째 인자 : 훈련데이터셋을 제공할 제네레이터를 지정. 본 예제에서는 앞서 생성한 train_generator으로 지정.\n",
    "- steps_per_epoch : 한 epoch에 사용한 스텝 수를 지정. 총 45개의 훈련 샘플이 있고 배치사이즈가 3이므로 15 스텝으로 지정.\n",
    "- epochs : 전체 훈련 데이터셋에 대해 학습 반복 횟수를 지정. 200번을 반복적으로 학습.\n",
    "- validation_data : 검증데이터셋을 제공할 제네레이터를 지정. 본 예제에서는 앞서 생성한 validation_generator으로 지정.\n",
    "- validation_steps : 한 epoch 종료 시 마다 검증할 때 사용되는 검증 스텝 수를 지정. 홍 15개의 검증 샘플이 있고 배치사이즈가 3이므로 5 스텝으로 지정."
   ]
  },
  {
   "cell_type": "code",
   "execution_count": 11,
   "metadata": {
    "colab": {
     "base_uri": "https://localhost:8080/",
     "height": 1000
    },
    "colab_type": "code",
    "id": "oMzc0kFdtLMY",
    "outputId": "820a8ed5-d798-4b67-bac7-bb1b9384ab93"
   },
   "outputs": [
    {
     "name": "stdout",
     "output_type": "stream",
     "text": [
      "Epoch 1/200\n",
      "15/15 [==============================] - 0s 12ms/step - loss: 0.0015 - accuracy: 1.0000 - val_loss: 4.0747 - val_accuracy: 0.8000\n",
      "Epoch 2/200\n",
      "15/15 [==============================] - 0s 20ms/step - loss: 0.0273 - accuracy: 0.9778 - val_loss: 4.3379 - val_accuracy: 0.8000\n",
      "Epoch 3/200\n",
      "15/15 [==============================] - 0s 11ms/step - loss: 0.0446 - accuracy: 0.9778 - val_loss: 4.8133 - val_accuracy: 0.7333\n",
      "Epoch 4/200\n",
      "15/15 [==============================] - 0s 11ms/step - loss: 0.0286 - accuracy: 0.9778 - val_loss: 0.0385 - val_accuracy: 0.6667\n",
      "Epoch 5/200\n",
      "15/15 [==============================] - 0s 16ms/step - loss: 0.0227 - accuracy: 1.0000 - val_loss: 0.0203 - val_accuracy: 0.6667\n",
      "Epoch 6/200\n",
      "15/15 [==============================] - 0s 20ms/step - loss: 0.1563 - accuracy: 0.9556 - val_loss: 2.8490e-05 - val_accuracy: 0.8000\n",
      "Epoch 7/200\n",
      "15/15 [==============================] - 0s 19ms/step - loss: 0.0055 - accuracy: 1.0000 - val_loss: 6.1076 - val_accuracy: 0.8000\n",
      "Epoch 8/200\n",
      "15/15 [==============================] - 0s 19ms/step - loss: 0.0028 - accuracy: 1.0000 - val_loss: 0.0028 - val_accuracy: 0.8000\n",
      "Epoch 9/200\n",
      "15/15 [==============================] - 0s 19ms/step - loss: 4.2904e-04 - accuracy: 1.0000 - val_loss: 3.3329 - val_accuracy: 0.8000\n",
      "Epoch 10/200\n",
      "15/15 [==============================] - 0s 19ms/step - loss: 0.0333 - accuracy: 0.9778 - val_loss: 2.8677 - val_accuracy: 0.8000\n",
      "Epoch 11/200\n",
      "15/15 [==============================] - 0s 11ms/step - loss: 0.0011 - accuracy: 1.0000 - val_loss: 2.6525 - val_accuracy: 0.8000\n",
      "Epoch 12/200\n",
      "15/15 [==============================] - 0s 18ms/step - loss: 0.0025 - accuracy: 1.0000 - val_loss: 0.0711 - val_accuracy: 0.8000\n",
      "Epoch 13/200\n",
      "15/15 [==============================] - 0s 11ms/step - loss: 7.2340e-04 - accuracy: 1.0000 - val_loss: 4.0928e-06 - val_accuracy: 0.8000\n",
      "Epoch 14/200\n",
      "15/15 [==============================] - 0s 11ms/step - loss: 7.9426e-04 - accuracy: 1.0000 - val_loss: 2.6549 - val_accuracy: 0.8000\n",
      "Epoch 15/200\n",
      "15/15 [==============================] - 0s 19ms/step - loss: 0.0645 - accuracy: 0.9778 - val_loss: 3.3647 - val_accuracy: 0.8000\n",
      "Epoch 16/200\n",
      "15/15 [==============================] - 0s 18ms/step - loss: 0.0436 - accuracy: 0.9556 - val_loss: 3.9594e-04 - val_accuracy: 0.6667\n",
      "Epoch 17/200\n",
      "15/15 [==============================] - 0s 18ms/step - loss: 0.0136 - accuracy: 1.0000 - val_loss: 0.3024 - val_accuracy: 0.6667\n",
      "Epoch 18/200\n",
      "15/15 [==============================] - 0s 11ms/step - loss: 8.7943e-04 - accuracy: 1.0000 - val_loss: 0.3589 - val_accuracy: 0.6667\n",
      "Epoch 19/200\n",
      "15/15 [==============================] - 0s 12ms/step - loss: 1.5098e-04 - accuracy: 1.0000 - val_loss: 0.0261 - val_accuracy: 0.6667\n",
      "Epoch 20/200\n",
      "15/15 [==============================] - 0s 16ms/step - loss: 0.0019 - accuracy: 1.0000 - val_loss: 0.5178 - val_accuracy: 0.6667\n",
      "Epoch 21/200\n",
      "15/15 [==============================] - 0s 19ms/step - loss: 7.1992e-04 - accuracy: 1.0000 - val_loss: 0.1782 - val_accuracy: 0.7333\n",
      "Epoch 22/200\n",
      "15/15 [==============================] - 0s 19ms/step - loss: 9.6417e-04 - accuracy: 1.0000 - val_loss: 0.0385 - val_accuracy: 0.7333\n",
      "Epoch 23/200\n",
      "15/15 [==============================] - 0s 19ms/step - loss: 0.0018 - accuracy: 1.0000 - val_loss: 6.5447 - val_accuracy: 0.8000\n",
      "Epoch 24/200\n",
      "15/15 [==============================] - 0s 19ms/step - loss: 3.9002e-04 - accuracy: 1.0000 - val_loss: 0.1256 - val_accuracy: 0.8000\n",
      "Epoch 25/200\n",
      "15/15 [==============================] - 0s 20ms/step - loss: 2.6208e-04 - accuracy: 1.0000 - val_loss: 6.3733 - val_accuracy: 0.8000\n",
      "Epoch 26/200\n",
      "15/15 [==============================] - 0s 11ms/step - loss: 0.0033 - accuracy: 1.0000 - val_loss: 0.0264 - val_accuracy: 0.8000\n",
      "Epoch 27/200\n",
      "15/15 [==============================] - 0s 18ms/step - loss: 0.0204 - accuracy: 0.9778 - val_loss: 7.1539 - val_accuracy: 0.7333\n",
      "Epoch 28/200\n",
      "15/15 [==============================] - 0s 11ms/step - loss: 7.5330e-04 - accuracy: 1.0000 - val_loss: 3.7813 - val_accuracy: 0.6667\n",
      "Epoch 29/200\n",
      "15/15 [==============================] - 0s 18ms/step - loss: 0.0016 - accuracy: 1.0000 - val_loss: 10.0970 - val_accuracy: 0.6667\n",
      "Epoch 30/200\n",
      "15/15 [==============================] - 0s 18ms/step - loss: 0.0363 - accuracy: 0.9778 - val_loss: 0.0510 - val_accuracy: 0.8000\n",
      "Epoch 31/200\n",
      "15/15 [==============================] - 0s 19ms/step - loss: 0.0349 - accuracy: 0.9778 - val_loss: 0.0078 - val_accuracy: 0.8000\n",
      "Epoch 32/200\n",
      "15/15 [==============================] - 0s 11ms/step - loss: 0.0018 - accuracy: 1.0000 - val_loss: 0.0098 - val_accuracy: 0.8000\n",
      "Epoch 33/200\n",
      "15/15 [==============================] - 0s 11ms/step - loss: 0.0012 - accuracy: 1.0000 - val_loss: 0.0041 - val_accuracy: 0.8000\n",
      "Epoch 34/200\n",
      "15/15 [==============================] - 0s 18ms/step - loss: 0.0145 - accuracy: 1.0000 - val_loss: 0.0109 - val_accuracy: 0.8000\n",
      "Epoch 35/200\n",
      "15/15 [==============================] - 0s 18ms/step - loss: 0.0067 - accuracy: 1.0000 - val_loss: 3.2064 - val_accuracy: 0.8000\n",
      "Epoch 36/200\n",
      "15/15 [==============================] - 0s 18ms/step - loss: 0.0136 - accuracy: 1.0000 - val_loss: 4.4180 - val_accuracy: 0.8000\n",
      "Epoch 37/200\n",
      "15/15 [==============================] - 0s 20ms/step - loss: 8.8017e-05 - accuracy: 1.0000 - val_loss: 4.0281 - val_accuracy: 0.8000\n",
      "Epoch 38/200\n",
      "15/15 [==============================] - 0s 11ms/step - loss: 0.0022 - accuracy: 1.0000 - val_loss: 4.3003 - val_accuracy: 0.8000\n",
      "Epoch 39/200\n",
      "15/15 [==============================] - 0s 17ms/step - loss: 0.0012 - accuracy: 1.0000 - val_loss: 1.7881e-06 - val_accuracy: 0.8000\n",
      "Epoch 40/200\n",
      "15/15 [==============================] - 0s 11ms/step - loss: 2.0337e-04 - accuracy: 1.0000 - val_loss: 0.0012 - val_accuracy: 0.8000\n",
      "Epoch 41/200\n",
      "15/15 [==============================] - 0s 11ms/step - loss: 4.4475e-05 - accuracy: 1.0000 - val_loss: 3.5784 - val_accuracy: 0.8000\n",
      "Epoch 42/200\n",
      "15/15 [==============================] - 0s 18ms/step - loss: 0.0045 - accuracy: 1.0000 - val_loss: 0.0574 - val_accuracy: 0.8000\n",
      "Epoch 43/200\n",
      "15/15 [==============================] - 0s 11ms/step - loss: 7.7804e-05 - accuracy: 1.0000 - val_loss: 1.9868e-07 - val_accuracy: 0.8000\n",
      "Epoch 44/200\n",
      "15/15 [==============================] - 0s 16ms/step - loss: 7.2249e-05 - accuracy: 1.0000 - val_loss: 3.1336 - val_accuracy: 0.8000\n",
      "Epoch 45/200\n",
      "15/15 [==============================] - 0s 19ms/step - loss: 0.0126 - accuracy: 1.0000 - val_loss: 0.0104 - val_accuracy: 0.8000\n",
      "Epoch 46/200\n",
      "15/15 [==============================] - 0s 18ms/step - loss: 0.0050 - accuracy: 1.0000 - val_loss: 0.0086 - val_accuracy: 0.8000\n",
      "Epoch 47/200\n",
      "15/15 [==============================] - 0s 18ms/step - loss: 0.0253 - accuracy: 0.9778 - val_loss: 4.5927 - val_accuracy: 0.8000\n",
      "Epoch 48/200\n",
      "15/15 [==============================] - 0s 11ms/step - loss: 9.0299e-05 - accuracy: 1.0000 - val_loss: 0.0040 - val_accuracy: 0.8000\n",
      "Epoch 49/200\n",
      "15/15 [==============================] - 0s 16ms/step - loss: 3.0982e-04 - accuracy: 1.0000 - val_loss: 4.0583 - val_accuracy: 0.8000\n",
      "Epoch 50/200\n",
      "15/15 [==============================] - 0s 20ms/step - loss: 3.2786e-04 - accuracy: 1.0000 - val_loss: 5.5789 - val_accuracy: 0.8000\n",
      "Epoch 51/200\n",
      "15/15 [==============================] - 0s 18ms/step - loss: 0.1138 - accuracy: 0.9778 - val_loss: 0.0037 - val_accuracy: 0.8000\n",
      "Epoch 52/200\n",
      "15/15 [==============================] - 0s 19ms/step - loss: 0.0035 - accuracy: 1.0000 - val_loss: 1.0729e-06 - val_accuracy: 0.6667\n",
      "Epoch 53/200\n",
      "15/15 [==============================] - 0s 20ms/step - loss: 0.0209 - accuracy: 1.0000 - val_loss: 0.0544 - val_accuracy: 0.6667\n",
      "Epoch 54/200\n",
      "15/15 [==============================] - 0s 16ms/step - loss: 0.0465 - accuracy: 0.9778 - val_loss: 6.3352 - val_accuracy: 0.7333\n",
      "Epoch 55/200\n",
      "15/15 [==============================] - 0s 11ms/step - loss: 0.0135 - accuracy: 1.0000 - val_loss: 2.7039 - val_accuracy: 0.7333\n",
      "Epoch 56/200\n",
      "15/15 [==============================] - 0s 18ms/step - loss: 0.0082 - accuracy: 1.0000 - val_loss: 4.9650 - val_accuracy: 0.8000\n",
      "Epoch 57/200\n",
      "15/15 [==============================] - 0s 11ms/step - loss: 0.0050 - accuracy: 1.0000 - val_loss: 3.5617 - val_accuracy: 0.8000\n"
     ]
    },
    {
     "name": "stdout",
     "output_type": "stream",
     "text": [
      "Epoch 58/200\n",
      "15/15 [==============================] - 0s 11ms/step - loss: 0.0032 - accuracy: 1.0000 - val_loss: 3.2310 - val_accuracy: 0.8000\n",
      "Epoch 59/200\n",
      "15/15 [==============================] - 0s 18ms/step - loss: 1.4475e-04 - accuracy: 1.0000 - val_loss: 1.6177e-04 - val_accuracy: 0.8000\n",
      "Epoch 60/200\n",
      "15/15 [==============================] - 0s 17ms/step - loss: 4.7791e-04 - accuracy: 1.0000 - val_loss: 3.2611 - val_accuracy: 0.8000\n",
      "Epoch 61/200\n",
      "15/15 [==============================] - 0s 17ms/step - loss: 1.0644e-04 - accuracy: 1.0000 - val_loss: 8.6245e-04 - val_accuracy: 0.8000\n",
      "Epoch 62/200\n",
      "15/15 [==============================] - 0s 19ms/step - loss: 0.0104 - accuracy: 1.0000 - val_loss: 2.7773 - val_accuracy: 0.7333\n",
      "Epoch 63/200\n",
      "15/15 [==============================] - 0s 11ms/step - loss: 5.9623e-04 - accuracy: 1.0000 - val_loss: 4.5022 - val_accuracy: 0.6667\n",
      "Epoch 64/200\n",
      "15/15 [==============================] - 0s 11ms/step - loss: 0.0016 - accuracy: 1.0000 - val_loss: 0.0024 - val_accuracy: 0.6667\n",
      "Epoch 65/200\n",
      "15/15 [==============================] - 0s 17ms/step - loss: 3.3525e-04 - accuracy: 1.0000 - val_loss: 4.7160 - val_accuracy: 0.7333\n",
      "Epoch 66/200\n",
      "15/15 [==============================] - 0s 19ms/step - loss: 0.0600 - accuracy: 0.9778 - val_loss: 9.8586 - val_accuracy: 0.7333\n",
      "Epoch 67/200\n",
      "15/15 [==============================] - 0s 20ms/step - loss: 0.0105 - accuracy: 1.0000 - val_loss: 2.5333 - val_accuracy: 0.6667\n",
      "Epoch 68/200\n",
      "15/15 [==============================] - 0s 18ms/step - loss: 0.0687 - accuracy: 0.9778 - val_loss: 2.2674 - val_accuracy: 0.5333\n",
      "Epoch 69/200\n",
      "15/15 [==============================] - 0s 18ms/step - loss: 0.0262 - accuracy: 0.9778 - val_loss: 0.0554 - val_accuracy: 0.6667\n",
      "Epoch 70/200\n",
      "15/15 [==============================] - 0s 20ms/step - loss: 6.1947e-04 - accuracy: 1.0000 - val_loss: 1.1858 - val_accuracy: 0.6667\n",
      "Epoch 71/200\n",
      "15/15 [==============================] - 0s 11ms/step - loss: 0.0196 - accuracy: 0.9778 - val_loss: 4.3321e-04 - val_accuracy: 0.7333\n",
      "Epoch 72/200\n",
      "15/15 [==============================] - 0s 11ms/step - loss: 0.0140 - accuracy: 1.0000 - val_loss: 0.0000e+00 - val_accuracy: 0.8000\n",
      "Epoch 73/200\n",
      "15/15 [==============================] - 0s 11ms/step - loss: 0.0012 - accuracy: 1.0000 - val_loss: 0.0032 - val_accuracy: 0.7333\n",
      "Epoch 74/200\n",
      "15/15 [==============================] - 0s 18ms/step - loss: 0.0417 - accuracy: 0.9778 - val_loss: 0.0705 - val_accuracy: 0.8000\n",
      "Epoch 75/200\n",
      "15/15 [==============================] - 0s 18ms/step - loss: 5.0237e-04 - accuracy: 1.0000 - val_loss: 3.4872 - val_accuracy: 0.8000\n",
      "Epoch 76/200\n",
      "15/15 [==============================] - 0s 19ms/step - loss: 0.0170 - accuracy: 1.0000 - val_loss: 2.4318e-05 - val_accuracy: 0.7333\n",
      "Epoch 77/200\n",
      "15/15 [==============================] - 0s 20ms/step - loss: 0.1228 - accuracy: 0.9556 - val_loss: 1.9567 - val_accuracy: 0.6667\n",
      "Epoch 78/200\n",
      "15/15 [==============================] - 0s 19ms/step - loss: 0.0038 - accuracy: 1.0000 - val_loss: 2.3349 - val_accuracy: 0.6000\n",
      "Epoch 79/200\n",
      "15/15 [==============================] - 0s 20ms/step - loss: 0.0260 - accuracy: 1.0000 - val_loss: 3.3402 - val_accuracy: 0.6000\n",
      "Epoch 80/200\n",
      "15/15 [==============================] - 0s 20ms/step - loss: 8.6214e-04 - accuracy: 1.0000 - val_loss: 9.1464 - val_accuracy: 0.7333\n",
      "Epoch 81/200\n",
      "15/15 [==============================] - 0s 19ms/step - loss: 0.0076 - accuracy: 1.0000 - val_loss: 7.3774 - val_accuracy: 0.8000\n",
      "Epoch 82/200\n",
      "15/15 [==============================] - 0s 19ms/step - loss: 1.5299e-04 - accuracy: 1.0000 - val_loss: 4.2386 - val_accuracy: 0.6667\n",
      "Epoch 83/200\n",
      "15/15 [==============================] - 0s 11ms/step - loss: 0.0182 - accuracy: 1.0000 - val_loss: 0.0012 - val_accuracy: 0.8000\n",
      "Epoch 84/200\n",
      "15/15 [==============================] - 0s 11ms/step - loss: 1.7622e-04 - accuracy: 1.0000 - val_loss: 4.9491 - val_accuracy: 0.8000\n",
      "Epoch 85/200\n",
      "15/15 [==============================] - 0s 16ms/step - loss: 6.1217e-05 - accuracy: 1.0000 - val_loss: 3.7276 - val_accuracy: 0.8000\n",
      "Epoch 86/200\n",
      "15/15 [==============================] - 0s 11ms/step - loss: 8.6615e-04 - accuracy: 1.0000 - val_loss: 3.6747 - val_accuracy: 0.8000\n",
      "Epoch 87/200\n",
      "15/15 [==============================] - 0s 12ms/step - loss: 0.0044 - accuracy: 1.0000 - val_loss: 5.4781 - val_accuracy: 0.8000\n",
      "Epoch 88/200\n",
      "15/15 [==============================] - 0s 18ms/step - loss: 1.4136e-04 - accuracy: 1.0000 - val_loss: 0.0492 - val_accuracy: 0.8000\n",
      "Epoch 89/200\n",
      "15/15 [==============================] - 0s 18ms/step - loss: 3.9749e-05 - accuracy: 1.0000 - val_loss: 3.8199 - val_accuracy: 0.8000\n",
      "Epoch 90/200\n",
      "15/15 [==============================] - 0s 11ms/step - loss: 0.0097 - accuracy: 1.0000 - val_loss: 0.0000e+00 - val_accuracy: 0.8000\n",
      "Epoch 91/200\n",
      "15/15 [==============================] - 0s 20ms/step - loss: 8.1139e-05 - accuracy: 1.0000 - val_loss: 3.5893 - val_accuracy: 0.8000\n",
      "Epoch 92/200\n",
      "15/15 [==============================] - 0s 19ms/step - loss: 0.0100 - accuracy: 1.0000 - val_loss: 3.8473 - val_accuracy: 0.8000\n",
      "Epoch 93/200\n",
      "15/15 [==============================] - 0s 19ms/step - loss: 0.0670 - accuracy: 0.9778 - val_loss: 3.2981e-06 - val_accuracy: 0.8000\n",
      "Epoch 94/200\n",
      "15/15 [==============================] - 0s 11ms/step - loss: 0.1372 - accuracy: 0.9556 - val_loss: 7.8510e-05 - val_accuracy: 0.6000\n",
      "Epoch 95/200\n",
      "15/15 [==============================] - 0s 19ms/step - loss: 0.0126 - accuracy: 1.0000 - val_loss: 6.2935 - val_accuracy: 0.6667\n",
      "Epoch 96/200\n",
      "15/15 [==============================] - 0s 19ms/step - loss: 0.0113 - accuracy: 1.0000 - val_loss: 0.0013 - val_accuracy: 0.7333\n",
      "Epoch 97/200\n",
      "15/15 [==============================] - 0s 19ms/step - loss: 0.0045 - accuracy: 1.0000 - val_loss: 9.4124 - val_accuracy: 0.6667\n",
      "Epoch 98/200\n",
      "15/15 [==============================] - 0s 18ms/step - loss: 1.9640e-04 - accuracy: 1.0000 - val_loss: 3.6199 - val_accuracy: 0.7333\n",
      "Epoch 99/200\n",
      "15/15 [==============================] - 0s 11ms/step - loss: 5.4717e-04 - accuracy: 1.0000 - val_loss: 6.4372e-06 - val_accuracy: 0.7333\n",
      "Epoch 100/200\n",
      "15/15 [==============================] - 0s 16ms/step - loss: 4.2534e-04 - accuracy: 1.0000 - val_loss: 8.1510 - val_accuracy: 0.7333\n",
      "Epoch 101/200\n",
      "15/15 [==============================] - 0s 11ms/step - loss: 1.7125e-04 - accuracy: 1.0000 - val_loss: 6.7451 - val_accuracy: 0.7333\n",
      "Epoch 102/200\n",
      "15/15 [==============================] - 0s 11ms/step - loss: 7.7857e-05 - accuracy: 1.0000 - val_loss: 1.3044 - val_accuracy: 0.7333\n",
      "Epoch 103/200\n",
      "15/15 [==============================] - 0s 16ms/step - loss: 9.8054e-04 - accuracy: 1.0000 - val_loss: 1.7884 - val_accuracy: 0.7333\n",
      "Epoch 104/200\n",
      "15/15 [==============================] - 0s 12ms/step - loss: 0.0164 - accuracy: 1.0000 - val_loss: 2.0716 - val_accuracy: 0.5333\n",
      "Epoch 105/200\n",
      "15/15 [==============================] - 0s 18ms/step - loss: 0.0125 - accuracy: 1.0000 - val_loss: 2.5728 - val_accuracy: 0.6667\n",
      "Epoch 106/200\n",
      "15/15 [==============================] - 0s 20ms/step - loss: 0.0014 - accuracy: 1.0000 - val_loss: 1.9167 - val_accuracy: 0.7333\n",
      "Epoch 107/200\n",
      "15/15 [==============================] - 0s 18ms/step - loss: 0.1788 - accuracy: 0.9778 - val_loss: 4.5545 - val_accuracy: 0.8000\n",
      "Epoch 108/200\n",
      "15/15 [==============================] - 0s 19ms/step - loss: 0.0011 - accuracy: 1.0000 - val_loss: 9.2572e-04 - val_accuracy: 0.8000\n",
      "Epoch 109/200\n",
      "15/15 [==============================] - 0s 12ms/step - loss: 0.0538 - accuracy: 0.9778 - val_loss: 0.0106 - val_accuracy: 0.7333\n",
      "Epoch 110/200\n",
      "15/15 [==============================] - 0s 17ms/step - loss: 0.0032 - accuracy: 1.0000 - val_loss: 0.0000e+00 - val_accuracy: 0.7333\n",
      "Epoch 111/200\n",
      "15/15 [==============================] - 0s 11ms/step - loss: 0.0070 - accuracy: 1.0000 - val_loss: 5.5675 - val_accuracy: 0.7333\n",
      "Epoch 112/200\n",
      "15/15 [==============================] - 0s 18ms/step - loss: 0.0067 - accuracy: 1.0000 - val_loss: 3.5297 - val_accuracy: 0.7333\n",
      "Epoch 113/200\n",
      "15/15 [==============================] - 0s 19ms/step - loss: 0.0264 - accuracy: 0.9778 - val_loss: 5.1544 - val_accuracy: 0.6667\n",
      "Epoch 114/200\n"
     ]
    },
    {
     "name": "stdout",
     "output_type": "stream",
     "text": [
      "15/15 [==============================] - 0s 11ms/step - loss: 0.0045 - accuracy: 1.0000 - val_loss: 5.5012 - val_accuracy: 0.6667\n",
      "Epoch 115/200\n",
      "15/15 [==============================] - 0s 19ms/step - loss: 0.0117 - accuracy: 1.0000 - val_loss: 8.1354 - val_accuracy: 0.6000\n",
      "Epoch 116/200\n",
      "15/15 [==============================] - 0s 11ms/step - loss: 0.0078 - accuracy: 1.0000 - val_loss: 0.0599 - val_accuracy: 0.7333\n",
      "Epoch 117/200\n",
      "15/15 [==============================] - 0s 18ms/step - loss: 3.0308e-05 - accuracy: 1.0000 - val_loss: 3.7184e-04 - val_accuracy: 0.7333\n",
      "Epoch 118/200\n",
      "15/15 [==============================] - 0s 11ms/step - loss: 4.0053e-05 - accuracy: 1.0000 - val_loss: 0.0896 - val_accuracy: 0.7333\n",
      "Epoch 119/200\n",
      "15/15 [==============================] - 0s 18ms/step - loss: 0.0013 - accuracy: 1.0000 - val_loss: 6.5624 - val_accuracy: 0.7333\n",
      "Epoch 120/200\n",
      "15/15 [==============================] - 0s 19ms/step - loss: 0.0020 - accuracy: 1.0000 - val_loss: 5.7048 - val_accuracy: 0.7333\n",
      "Epoch 121/200\n",
      "15/15 [==============================] - 0s 11ms/step - loss: 0.0042 - accuracy: 1.0000 - val_loss: 1.5895e-06 - val_accuracy: 0.6667\n",
      "Epoch 122/200\n",
      "15/15 [==============================] - 0s 11ms/step - loss: 3.4776e-04 - accuracy: 1.0000 - val_loss: 5.1644 - val_accuracy: 0.6667\n",
      "Epoch 123/200\n",
      "15/15 [==============================] - 0s 11ms/step - loss: 4.3895e-06 - accuracy: 1.0000 - val_loss: 0.5369 - val_accuracy: 0.6667\n",
      "Epoch 124/200\n",
      "15/15 [==============================] - 0s 20ms/step - loss: 4.7575e-06 - accuracy: 1.0000 - val_loss: 7.5071 - val_accuracy: 0.6667\n",
      "Epoch 125/200\n",
      "15/15 [==============================] - 0s 11ms/step - loss: 8.1269e-06 - accuracy: 1.0000 - val_loss: 5.1577 - val_accuracy: 0.6667\n",
      "Epoch 126/200\n",
      "15/15 [==============================] - 0s 11ms/step - loss: 0.0020 - accuracy: 1.0000 - val_loss: 0.4415 - val_accuracy: 0.6667\n",
      "Epoch 127/200\n",
      "15/15 [==============================] - 0s 20ms/step - loss: 0.0030 - accuracy: 1.0000 - val_loss: 0.3957 - val_accuracy: 0.6667\n",
      "Epoch 128/200\n",
      "15/15 [==============================] - 0s 20ms/step - loss: 1.1646e-05 - accuracy: 1.0000 - val_loss: 1.9868e-07 - val_accuracy: 0.7333\n",
      "Epoch 129/200\n",
      "15/15 [==============================] - 0s 11ms/step - loss: 6.3750e-05 - accuracy: 1.0000 - val_loss: 9.7585 - val_accuracy: 0.7333\n",
      "Epoch 130/200\n",
      "15/15 [==============================] - 0s 11ms/step - loss: 0.0988 - accuracy: 0.9556 - val_loss: 0.0000e+00 - val_accuracy: 0.7333\n",
      "Epoch 131/200\n",
      "15/15 [==============================] - 0s 16ms/step - loss: 0.0011 - accuracy: 1.0000 - val_loss: 4.5911 - val_accuracy: 0.7333\n",
      "Epoch 132/200\n",
      "15/15 [==============================] - 0s 11ms/step - loss: 0.0098 - accuracy: 1.0000 - val_loss: 0.0030 - val_accuracy: 0.7333\n",
      "Epoch 133/200\n",
      "15/15 [==============================] - 0s 11ms/step - loss: 0.0368 - accuracy: 0.9778 - val_loss: 0.0244 - val_accuracy: 0.8000\n",
      "Epoch 134/200\n",
      "15/15 [==============================] - 0s 17ms/step - loss: 0.0263 - accuracy: 0.9778 - val_loss: 2.3409 - val_accuracy: 0.7333\n",
      "Epoch 135/200\n",
      "15/15 [==============================] - 0s 16ms/step - loss: 0.0011 - accuracy: 1.0000 - val_loss: 0.2853 - val_accuracy: 0.6667\n",
      "Epoch 136/200\n",
      "15/15 [==============================] - 0s 11ms/step - loss: 0.0647 - accuracy: 0.9778 - val_loss: 0.9638 - val_accuracy: 0.6667\n",
      "Epoch 137/200\n",
      "15/15 [==============================] - 0s 11ms/step - loss: 0.0085 - accuracy: 1.0000 - val_loss: 1.0641 - val_accuracy: 0.6667\n",
      "Epoch 138/200\n",
      "15/15 [==============================] - 0s 19ms/step - loss: 0.0032 - accuracy: 1.0000 - val_loss: 8.0130 - val_accuracy: 0.6667\n",
      "Epoch 139/200\n",
      "15/15 [==============================] - 0s 17ms/step - loss: 0.1415 - accuracy: 0.9778 - val_loss: 0.0013 - val_accuracy: 0.6667\n",
      "Epoch 140/200\n",
      "15/15 [==============================] - 0s 18ms/step - loss: 0.0974 - accuracy: 0.9778 - val_loss: 1.5397 - val_accuracy: 0.7333\n",
      "Epoch 141/200\n",
      "15/15 [==============================] - 0s 20ms/step - loss: 0.0223 - accuracy: 0.9778 - val_loss: 1.9380 - val_accuracy: 0.6667\n",
      "Epoch 142/200\n",
      "15/15 [==============================] - 0s 17ms/step - loss: 0.0043 - accuracy: 1.0000 - val_loss: 3.5483e-05 - val_accuracy: 0.6667\n",
      "Epoch 143/200\n",
      "15/15 [==============================] - 0s 16ms/step - loss: 0.0080 - accuracy: 1.0000 - val_loss: 3.1505 - val_accuracy: 0.6667\n",
      "Epoch 144/200\n",
      "15/15 [==============================] - 0s 11ms/step - loss: 0.0796 - accuracy: 0.9778 - val_loss: 0.6386 - val_accuracy: 0.6667\n",
      "Epoch 145/200\n",
      "15/15 [==============================] - 0s 18ms/step - loss: 0.0182 - accuracy: 0.9778 - val_loss: 0.0067 - val_accuracy: 0.6667\n",
      "Epoch 146/200\n",
      "15/15 [==============================] - 0s 11ms/step - loss: 3.2715e-04 - accuracy: 1.0000 - val_loss: 0.0071 - val_accuracy: 0.6667\n",
      "Epoch 147/200\n",
      "15/15 [==============================] - 0s 16ms/step - loss: 0.0143 - accuracy: 1.0000 - val_loss: 1.1126e-06 - val_accuracy: 0.7333\n",
      "Epoch 148/200\n",
      "15/15 [==============================] - 0s 11ms/step - loss: 0.0023 - accuracy: 1.0000 - val_loss: 2.3281 - val_accuracy: 0.7333\n",
      "Epoch 149/200\n",
      "15/15 [==============================] - 0s 11ms/step - loss: 0.0324 - accuracy: 0.9778 - val_loss: 0.0019 - val_accuracy: 0.6667\n",
      "Epoch 150/200\n",
      "15/15 [==============================] - 0s 19ms/step - loss: 0.0014 - accuracy: 1.0000 - val_loss: 4.3273 - val_accuracy: 0.6667\n",
      "Epoch 151/200\n",
      "15/15 [==============================] - 0s 19ms/step - loss: 0.1103 - accuracy: 0.9778 - val_loss: 0.4405 - val_accuracy: 0.6667\n",
      "Epoch 152/200\n",
      "15/15 [==============================] - 0s 19ms/step - loss: 0.1059 - accuracy: 0.9556 - val_loss: 0.3234 - val_accuracy: 0.7333\n",
      "Epoch 153/200\n",
      "15/15 [==============================] - 0s 11ms/step - loss: 2.8948e-04 - accuracy: 1.0000 - val_loss: 5.0381 - val_accuracy: 0.8000\n",
      "Epoch 154/200\n",
      "15/15 [==============================] - 0s 18ms/step - loss: 0.0391 - accuracy: 0.9778 - val_loss: 2.1516 - val_accuracy: 0.8000\n",
      "Epoch 155/200\n",
      "15/15 [==============================] - 0s 11ms/step - loss: 0.2714 - accuracy: 0.9556 - val_loss: 1.4552 - val_accuracy: 0.7333\n",
      "Epoch 156/200\n",
      "15/15 [==============================] - 0s 18ms/step - loss: 0.0543 - accuracy: 0.9778 - val_loss: 0.1351 - val_accuracy: 0.8000\n",
      "Epoch 157/200\n",
      "15/15 [==============================] - 0s 19ms/step - loss: 0.0021 - accuracy: 1.0000 - val_loss: 1.1487 - val_accuracy: 0.7333\n",
      "Epoch 158/200\n",
      "15/15 [==============================] - 0s 11ms/step - loss: 0.0196 - accuracy: 0.9778 - val_loss: 1.5895e-07 - val_accuracy: 0.8000\n",
      "Epoch 159/200\n",
      "15/15 [==============================] - 0s 17ms/step - loss: 1.8262e-05 - accuracy: 1.0000 - val_loss: 2.3842e-07 - val_accuracy: 0.8000\n",
      "Epoch 160/200\n",
      "15/15 [==============================] - 0s 20ms/step - loss: 0.0268 - accuracy: 0.9778 - val_loss: 8.0740 - val_accuracy: 0.8000\n",
      "Epoch 161/200\n",
      "15/15 [==============================] - 0s 11ms/step - loss: 7.4440e-05 - accuracy: 1.0000 - val_loss: 2.9306 - val_accuracy: 0.7333\n",
      "Epoch 162/200\n",
      "15/15 [==============================] - 0s 16ms/step - loss: 5.1624e-05 - accuracy: 1.0000 - val_loss: 4.8754 - val_accuracy: 0.7333\n",
      "Epoch 163/200\n",
      "15/15 [==============================] - 0s 20ms/step - loss: 8.6694e-04 - accuracy: 1.0000 - val_loss: 2.9618 - val_accuracy: 0.7333\n",
      "Epoch 164/200\n",
      "15/15 [==============================] - 0s 19ms/step - loss: 1.2280e-05 - accuracy: 1.0000 - val_loss: 7.0434 - val_accuracy: 0.7333\n",
      "Epoch 165/200\n",
      "15/15 [==============================] - 0s 11ms/step - loss: 0.0018 - accuracy: 1.0000 - val_loss: 7.9473e-08 - val_accuracy: 0.7333\n",
      "Epoch 166/200\n",
      "15/15 [==============================] - 0s 11ms/step - loss: 9.0693e-05 - accuracy: 1.0000 - val_loss: 0.0081 - val_accuracy: 0.7333\n",
      "Epoch 167/200\n",
      "15/15 [==============================] - 0s 12ms/step - loss: 4.4571e-04 - accuracy: 1.0000 - val_loss: 0.0454 - val_accuracy: 0.7333\n",
      "Epoch 168/200\n",
      "15/15 [==============================] - 0s 16ms/step - loss: 0.1071 - accuracy: 0.9778 - val_loss: 0.2066 - val_accuracy: 0.8000\n",
      "Epoch 169/200\n",
      "15/15 [==============================] - 0s 18ms/step - loss: 0.0962 - accuracy: 0.9778 - val_loss: 1.8755 - val_accuracy: 0.8000\n",
      "Epoch 170/200\n"
     ]
    },
    {
     "name": "stdout",
     "output_type": "stream",
     "text": [
      "15/15 [==============================] - 0s 17ms/step - loss: 0.0221 - accuracy: 0.9778 - val_loss: 3.9736e-08 - val_accuracy: 0.7333\n",
      "Epoch 171/200\n",
      "15/15 [==============================] - 0s 11ms/step - loss: 0.0167 - accuracy: 1.0000 - val_loss: 1.7329 - val_accuracy: 0.7333\n",
      "Epoch 172/200\n",
      "15/15 [==============================] - 0s 11ms/step - loss: 0.0238 - accuracy: 0.9778 - val_loss: 7.0336e-04 - val_accuracy: 0.7333\n",
      "Epoch 173/200\n",
      "15/15 [==============================] - 0s 12ms/step - loss: 2.9502e-04 - accuracy: 1.0000 - val_loss: 2.3444e-06 - val_accuracy: 0.7333\n",
      "Epoch 174/200\n",
      "15/15 [==============================] - 0s 17ms/step - loss: 0.0895 - accuracy: 0.9778 - val_loss: 5.4284e-04 - val_accuracy: 0.8000\n",
      "Epoch 175/200\n",
      "15/15 [==============================] - 0s 19ms/step - loss: 0.0014 - accuracy: 1.0000 - val_loss: 8.1648e-05 - val_accuracy: 0.8000\n",
      "Epoch 176/200\n",
      "15/15 [==============================] - 0s 11ms/step - loss: 0.0091 - accuracy: 1.0000 - val_loss: 1.7784 - val_accuracy: 0.8000\n",
      "Epoch 177/200\n",
      "15/15 [==============================] - 0s 12ms/step - loss: 0.0026 - accuracy: 1.0000 - val_loss: 1.6038e-04 - val_accuracy: 0.8000\n",
      "Epoch 178/200\n",
      "15/15 [==============================] - 0s 17ms/step - loss: 0.0814 - accuracy: 0.9778 - val_loss: 0.1428 - val_accuracy: 0.8667\n",
      "Epoch 179/200\n",
      "15/15 [==============================] - 0s 11ms/step - loss: 0.0216 - accuracy: 1.0000 - val_loss: 2.4898 - val_accuracy: 0.8667\n",
      "Epoch 180/200\n",
      "15/15 [==============================] - 0s 17ms/step - loss: 0.0753 - accuracy: 0.9778 - val_loss: 0.0062 - val_accuracy: 0.8667\n",
      "Epoch 181/200\n",
      "15/15 [==============================] - 0s 11ms/step - loss: 0.0018 - accuracy: 1.0000 - val_loss: 1.5335 - val_accuracy: 0.8667\n",
      "Epoch 182/200\n",
      "15/15 [==============================] - 0s 16ms/step - loss: 0.0023 - accuracy: 1.0000 - val_loss: 1.4551 - val_accuracy: 0.8667\n",
      "Epoch 183/200\n",
      "15/15 [==============================] - 0s 11ms/step - loss: 7.8045e-04 - accuracy: 1.0000 - val_loss: 4.7692 - val_accuracy: 0.8667\n",
      "Epoch 184/200\n",
      "15/15 [==============================] - 0s 19ms/step - loss: 5.7302e-04 - accuracy: 1.0000 - val_loss: 9.3208e-04 - val_accuracy: 0.8667\n",
      "Epoch 185/200\n",
      "15/15 [==============================] - 0s 11ms/step - loss: 0.0022 - accuracy: 1.0000 - val_loss: 4.7571 - val_accuracy: 0.8667\n",
      "Epoch 186/200\n",
      "15/15 [==============================] - 0s 12ms/step - loss: 0.0104 - accuracy: 1.0000 - val_loss: 0.0025 - val_accuracy: 0.8667\n",
      "Epoch 187/200\n",
      "15/15 [==============================] - 0s 16ms/step - loss: 6.3918e-04 - accuracy: 1.0000 - val_loss: 2.5708e-04 - val_accuracy: 0.8000\n",
      "Epoch 188/200\n",
      "15/15 [==============================] - 0s 20ms/step - loss: 5.7771e-05 - accuracy: 1.0000 - val_loss: 4.5299e-06 - val_accuracy: 0.8000\n",
      "Epoch 189/200\n",
      "15/15 [==============================] - 0s 11ms/step - loss: 7.7364e-05 - accuracy: 1.0000 - val_loss: 2.5070 - val_accuracy: 0.8000\n",
      "Epoch 190/200\n",
      "15/15 [==============================] - 0s 17ms/step - loss: 1.7098e-04 - accuracy: 1.0000 - val_loss: 4.0587 - val_accuracy: 0.8000\n",
      "Epoch 191/200\n",
      "15/15 [==============================] - 0s 17ms/step - loss: 2.9837e-04 - accuracy: 1.0000 - val_loss: 3.2782e-04 - val_accuracy: 0.8000\n",
      "Epoch 192/200\n",
      "15/15 [==============================] - 0s 17ms/step - loss: 9.4682e-05 - accuracy: 1.0000 - val_loss: 0.0000e+00 - val_accuracy: 0.8000\n",
      "Epoch 193/200\n",
      "15/15 [==============================] - 0s 11ms/step - loss: 0.0022 - accuracy: 1.0000 - val_loss: 4.3108 - val_accuracy: 0.8000\n",
      "Epoch 194/200\n",
      "15/15 [==============================] - 0s 16ms/step - loss: 7.0382e-06 - accuracy: 1.0000 - val_loss: 2.4947 - val_accuracy: 0.8000\n",
      "Epoch 195/200\n",
      "15/15 [==============================] - 0s 20ms/step - loss: 0.0021 - accuracy: 1.0000 - val_loss: 1.8397e-04 - val_accuracy: 0.8000\n",
      "Epoch 196/200\n",
      "15/15 [==============================] - 0s 20ms/step - loss: 7.4880e-05 - accuracy: 1.0000 - val_loss: 3.2016e-04 - val_accuracy: 0.8000\n",
      "Epoch 197/200\n",
      "15/15 [==============================] - 0s 19ms/step - loss: 9.6744e-04 - accuracy: 1.0000 - val_loss: 4.4093 - val_accuracy: 0.8000\n",
      "Epoch 198/200\n",
      "15/15 [==============================] - 0s 20ms/step - loss: 3.6424e-04 - accuracy: 1.0000 - val_loss: 2.6316 - val_accuracy: 0.8000\n",
      "Epoch 199/200\n",
      "15/15 [==============================] - 0s 16ms/step - loss: 0.0016 - accuracy: 1.0000 - val_loss: 5.5994e-04 - val_accuracy: 0.8000\n",
      "Epoch 200/200\n",
      "15/15 [==============================] - 0s 12ms/step - loss: 1.4071e-04 - accuracy: 1.0000 - val_loss: 2.4444 - val_accuracy: 0.8000\n"
     ]
    },
    {
     "data": {
      "text/plain": [
       "<keras.callbacks.callbacks.History at 0x14bf127e448>"
      ]
     },
     "execution_count": 11,
     "metadata": {},
     "output_type": "execute_result"
    }
   ],
   "source": [
    "model.fit_generator(\n",
    "        train_generator,\n",
    "        steps_per_epoch=15, ## *100 해주어야 함\n",
    "        epochs=200,\n",
    "        validation_data=test_generator,\n",
    "        validation_steps=5)"
   ]
  },
  {
   "cell_type": "markdown",
   "metadata": {
    "colab_type": "text",
    "id": "uT9NEiI-uy52"
   },
   "source": [
    "### 모델 평가하기"
   ]
  },
  {
   "cell_type": "code",
   "execution_count": 12,
   "metadata": {
    "colab": {
     "base_uri": "https://localhost:8080/",
     "height": 53
    },
    "colab_type": "code",
    "id": "XZ8jXxlIu1SE",
    "outputId": "38f36f23-013e-4793-c638-26f0bedb5b6e"
   },
   "outputs": [
    {
     "name": "stdout",
     "output_type": "stream",
     "text": [
      "-- Evaluate --\n",
      "accuracy: 80.00%\n"
     ]
    }
   ],
   "source": [
    "print(\"-- Evaluate --\")\n",
    "scores = model.evaluate_generator(test_generator, steps=5)\n",
    "print(\"%s: %.2f%%\" %(model.metrics_names[1], scores[1]*100))"
   ]
  },
  {
   "cell_type": "code",
   "execution_count": null,
   "metadata": {},
   "outputs": [],
   "source": []
  },
  {
   "cell_type": "code",
   "execution_count": null,
   "metadata": {},
   "outputs": [],
   "source": []
  },
  {
   "cell_type": "code",
   "execution_count": null,
   "metadata": {},
   "outputs": [],
   "source": []
  },
  {
   "cell_type": "code",
   "execution_count": null,
   "metadata": {},
   "outputs": [],
   "source": []
  },
  {
   "cell_type": "markdown",
   "metadata": {
    "colab_type": "text",
    "id": "QTlRD9Mqu9K6"
   },
   "source": [
    "### 모델 사용하기"
   ]
  },
  {
   "cell_type": "code",
   "execution_count": 11,
   "metadata": {
    "colab": {
     "base_uri": "https://localhost:8080/",
     "height": 323
    },
    "colab_type": "code",
    "id": "Wabhqvy-u48Q",
    "outputId": "d6b6ad06-8b60-4998-8ffb-3468141da43c"
   },
   "outputs": [
    {
     "name": "stdout",
     "output_type": "stream",
     "text": [
      "-- Predict --\n",
      "{'circle': 0, 'rectangle': 1, 'triangle': 2}\n",
      "[[0.000 1.000 0.000]\n",
      " [0.000 0.000 1.000]\n",
      " [0.000 1.000 0.000]\n",
      " [0.000 1.000 0.000]\n",
      " [1.000 0.000 0.000]\n",
      " [0.000 0.000 1.000]\n",
      " [0.000 0.000 1.000]\n",
      " [0.000 0.000 1.000]\n",
      " [1.000 0.000 0.000]\n",
      " [1.000 0.000 0.000]\n",
      " [0.000 0.000 1.000]\n",
      " [0.000 0.000 1.000]\n",
      " [0.000 0.000 1.000]\n",
      " [0.233 0.000 0.767]\n",
      " [0.000 1.000 0.000]]\n"
     ]
    }
   ],
   "source": [
    "print(\"-- Predict --\")\n",
    "output = model.predict_generator(test_generator, steps=5)\n",
    "np.set_printoptions(formatter={'float': lambda x: \"{0:0.3f}\".format(x)})\n",
    "print(test_generator.class_indices)\n",
    "print(output)"
   ]
  },
  {
   "cell_type": "code",
   "execution_count": 12,
   "metadata": {
    "colab": {},
    "colab_type": "code",
    "id": "jVItItOmvZOJ"
   },
   "outputs": [
    {
     "name": "stdout",
     "output_type": "stream",
     "text": [
      "circle\\circle021.png 0 1\n",
      "circle\\circle022.png 0 2\n",
      "circle\\circle023.png 0 1\n",
      "circle\\circle024.png 0 1\n",
      "circle\\circle025.png 0 0\n",
      "rectangle\\rectangle021.png 1 2\n",
      "rectangle\\rectangle022.png 1 2\n",
      "rectangle\\rectangle023.png 1 2\n",
      "rectangle\\rectangle024.png 1 0\n",
      "rectangle\\rectangle025.png 1 0\n",
      "triangle\\triangle021.png 2 2\n",
      "triangle\\triangle022.png 2 2\n",
      "triangle\\triangle023.png 2 2\n",
      "triangle\\triangle024.png 2 2\n",
      "triangle\\triangle025.png 2 1\n"
     ]
    }
   ],
   "source": [
    "for i in range(len(test_generator.labels)):\n",
    "    print(test_generator.filenames[i], test_generator.labels[i], np.argmax(output[i]))"
   ]
  },
  {
   "cell_type": "code",
   "execution_count": null,
   "metadata": {},
   "outputs": [],
   "source": []
  },
  {
   "cell_type": "code",
   "execution_count": null,
   "metadata": {},
   "outputs": [],
   "source": []
  }
 ],
 "metadata": {
  "colab": {
   "collapsed_sections": [],
   "name": "PolygonClassfication_03_DataAugmentation.ipynb",
   "provenance": [],
   "version": "0.3.2"
  },
  "kernelspec": {
   "display_name": "Python 3",
   "language": "python",
   "name": "python3"
  },
  "language_info": {
   "codemirror_mode": {
    "name": "ipython",
    "version": 3
   },
   "file_extension": ".py",
   "mimetype": "text/x-python",
   "name": "python",
   "nbconvert_exporter": "python",
   "pygments_lexer": "ipython3",
   "version": "3.7.7"
  }
 },
 "nbformat": 4,
 "nbformat_minor": 1
}
