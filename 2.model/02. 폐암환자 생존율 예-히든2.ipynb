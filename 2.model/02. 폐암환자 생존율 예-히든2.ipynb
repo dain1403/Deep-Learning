{
 "cells": [
  {
   "cell_type": "markdown",
   "metadata": {},
   "source": [
    "# 폐암 수술 환자의 생존을 데이터 분석"
   ]
  },
  {
   "cell_type": "code",
   "execution_count": 1,
   "metadata": {},
   "outputs": [],
   "source": [
    "## 강사님 깃허브 ensorflow-Deep-Learning/41_Model/01_폐암환자_생존율.ipynb"
   ]
  },
  {
   "cell_type": "code",
   "execution_count": 2,
   "metadata": {},
   "outputs": [
    {
     "data": {
      "text/plain": [
       "'2.1.0'"
      ]
     },
     "execution_count": 2,
     "metadata": {},
     "output_type": "execute_result"
    }
   ],
   "source": [
    "#필요한 라이브러리\n",
    "import numpy as np\n",
    "import tensorflow as tf\n",
    "tf.__version__"
   ]
  },
  {
   "cell_type": "code",
   "execution_count": 3,
   "metadata": {},
   "outputs": [],
   "source": [
    "# 실행할 때마다 같은 결과를 출력하기 위한 seed 값 설정\n",
    "seed = 2020\n",
    "np.random.seed(seed)\n",
    "tf.random.set_seed(seed)"
   ]
  },
  {
   "cell_type": "code",
   "execution_count": 4,
   "metadata": {},
   "outputs": [
    {
     "data": {
      "text/plain": [
       "array([[293.  ,   1.  ,   3.8 ,   2.8 ,   0.  ,   0.  ,   0.  ,   0.  ,\n",
       "          0.  ,   0.  ,  12.  ,   0.  ,   0.  ,   0.  ,   1.  ,   0.  ,\n",
       "         62.  ,   0.  ],\n",
       "       [  1.  ,   2.  ,   2.88,   2.16,   1.  ,   0.  ,   0.  ,   0.  ,\n",
       "          1.  ,   1.  ,  14.  ,   0.  ,   0.  ,   0.  ,   1.  ,   0.  ,\n",
       "         60.  ,   0.  ],\n",
       "       [  8.  ,   2.  ,   3.19,   2.5 ,   1.  ,   0.  ,   0.  ,   0.  ,\n",
       "          1.  ,   0.  ,  11.  ,   0.  ,   0.  ,   1.  ,   1.  ,   0.  ,\n",
       "         66.  ,   1.  ]])"
      ]
     },
     "execution_count": 4,
     "metadata": {},
     "output_type": "execute_result"
    }
   ],
   "source": [
    "# 준비된 수술 환자 데이터를 불러들임\n",
    "Data_set = np.loadtxt(\"../dataset/ThoraricSurgery.csv\", delimiter=\",\")\n",
    "Data_set[:3, :]"
   ]
  },
  {
   "cell_type": "code",
   "execution_count": 5,
   "metadata": {},
   "outputs": [
    {
     "data": {
      "text/plain": [
       "((470, 17), (470,))"
      ]
     },
     "execution_count": 5,
     "metadata": {},
     "output_type": "execute_result"
    }
   ],
   "source": [
    "# 환자의 기록과 수술 결과를 X와 Y로 구분하여 저장\n",
    "X = Data_set[:, 0:17]  ## x_train\n",
    "Y = Data_set[:, 17]\n",
    "X.shape, Y.shape"
   ]
  },
  {
   "cell_type": "code",
   "execution_count": 6,
   "metadata": {},
   "outputs": [],
   "source": [
    "from tensorflow.keras.models import Sequential\n",
    "from tensorflow.keras.layers import Dense"
   ]
  },
  {
   "cell_type": "code",
   "execution_count": 7,
   "metadata": {},
   "outputs": [
    {
     "name": "stdout",
     "output_type": "stream",
     "text": [
      "Model: \"sequential\"\n",
      "_________________________________________________________________\n",
      "Layer (type)                 Output Shape              Param #   \n",
      "=================================================================\n",
      "dense (Dense)                (None, 24)                432       \n",
      "_________________________________________________________________\n",
      "dense_1 (Dense)              (None, 8)                 200       \n",
      "_________________________________________________________________\n",
      "dense_2 (Dense)              (None, 1)                 9         \n",
      "=================================================================\n",
      "Total params: 641\n",
      "Trainable params: 641\n",
      "Non-trainable params: 0\n",
      "_________________________________________________________________\n"
     ]
    }
   ],
   "source": [
    "# 딥러닝 모델 설정\n",
    "## 히든2개\n",
    "model = Sequential([\n",
    "    Dense(24, input_shape=(17,), activation='relu'),\n",
    "    Dense(8, activation='relu'),\n",
    "    Dense(1, activation='sigmoid')\n",
    "])\n",
    "model.summary()"
   ]
  },
  {
   "cell_type": "code",
   "execution_count": 8,
   "metadata": {},
   "outputs": [],
   "source": [
    "# 80% Train set, 20% Test set으로 분리"
   ]
  },
  {
   "cell_type": "code",
   "execution_count": 9,
   "metadata": {},
   "outputs": [],
   "source": [
    "from sklearn.model_selection import train_test_split"
   ]
  },
  {
   "cell_type": "code",
   "execution_count": 10,
   "metadata": {},
   "outputs": [],
   "source": [
    "x_train, x_test, y_train, y_test=train_test_split(X, Y, \\\n",
    "                                                  test_size=0.2, stratify = Y, random_state=seed)"
   ]
  },
  {
   "cell_type": "code",
   "execution_count": 11,
   "metadata": {},
   "outputs": [],
   "source": [
    "# 딥러닝 환경 설정 (오차함수, 최적화함수)\n",
    "model.compile(loss='binary_crossentropy', optimizer='adam', metrics=['accuracy'])"
   ]
  },
  {
   "cell_type": "code",
   "execution_count": 14,
   "metadata": {},
   "outputs": [
    {
     "name": "stdout",
     "output_type": "stream",
     "text": [
      "Train on 300 samples, validate on 76 samples\n",
      "Epoch 1/30\n",
      "300/300 [==============================] - 0s 123us/sample - loss: 0.4361 - accuracy: 0.8567 - val_loss: 0.8104 - val_accuracy: 0.8289\n",
      "Epoch 2/30\n",
      "300/300 [==============================] - 0s 114us/sample - loss: 0.4293 - accuracy: 0.8567 - val_loss: 0.7952 - val_accuracy: 0.8289\n",
      "Epoch 3/30\n",
      "300/300 [==============================] - 0s 115us/sample - loss: 0.4276 - accuracy: 0.8533 - val_loss: 0.7952 - val_accuracy: 0.8289\n",
      "Epoch 4/30\n",
      "300/300 [==============================] - 0s 114us/sample - loss: 0.4360 - accuracy: 0.8567 - val_loss: 0.7968 - val_accuracy: 0.8289\n",
      "Epoch 5/30\n",
      "300/300 [==============================] - 0s 116us/sample - loss: 0.4157 - accuracy: 0.8567 - val_loss: 0.7827 - val_accuracy: 0.8289\n",
      "Epoch 6/30\n",
      "300/300 [==============================] - 0s 121us/sample - loss: 0.4293 - accuracy: 0.8533 - val_loss: 0.7640 - val_accuracy: 0.8289\n",
      "Epoch 7/30\n",
      "300/300 [==============================] - 0s 122us/sample - loss: 0.4663 - accuracy: 0.8533 - val_loss: 0.7853 - val_accuracy: 0.8289\n",
      "Epoch 8/30\n",
      "300/300 [==============================] - 0s 120us/sample - loss: 0.4386 - accuracy: 0.8533 - val_loss: 0.7621 - val_accuracy: 0.8289\n",
      "Epoch 9/30\n",
      "300/300 [==============================] - 0s 119us/sample - loss: 0.4720 - accuracy: 0.8467 - val_loss: 0.7839 - val_accuracy: 0.7895\n",
      "Epoch 10/30\n",
      "300/300 [==============================] - 0s 120us/sample - loss: 0.4284 - accuracy: 0.8567 - val_loss: 0.7600 - val_accuracy: 0.8289\n",
      "Epoch 11/30\n",
      "300/300 [==============================] - 0s 123us/sample - loss: 0.4167 - accuracy: 0.8567 - val_loss: 0.7308 - val_accuracy: 0.8289\n",
      "Epoch 12/30\n",
      "300/300 [==============================] - 0s 119us/sample - loss: 0.4208 - accuracy: 0.8533 - val_loss: 0.7387 - val_accuracy: 0.8289\n",
      "Epoch 13/30\n",
      "300/300 [==============================] - 0s 116us/sample - loss: 0.4385 - accuracy: 0.8300 - val_loss: 0.8091 - val_accuracy: 0.8289\n",
      "Epoch 14/30\n",
      "300/300 [==============================] - 0s 121us/sample - loss: 0.4645 - accuracy: 0.8533 - val_loss: 0.7479 - val_accuracy: 0.8289\n",
      "Epoch 15/30\n",
      "300/300 [==============================] - 0s 116us/sample - loss: 0.4806 - accuracy: 0.8400 - val_loss: 0.7469 - val_accuracy: 0.8289\n",
      "Epoch 16/30\n",
      "300/300 [==============================] - 0s 115us/sample - loss: 0.4102 - accuracy: 0.8567 - val_loss: 0.7105 - val_accuracy: 0.8289\n",
      "Epoch 17/30\n",
      "300/300 [==============================] - 0s 116us/sample - loss: 0.4189 - accuracy: 0.8400 - val_loss: 0.8008 - val_accuracy: 0.8289\n",
      "Epoch 18/30\n",
      "300/300 [==============================] - 0s 116us/sample - loss: 0.4790 - accuracy: 0.8333 - val_loss: 0.7044 - val_accuracy: 0.8289\n",
      "Epoch 19/30\n",
      "300/300 [==============================] - 0s 117us/sample - loss: 0.4178 - accuracy: 0.8567 - val_loss: 0.7109 - val_accuracy: 0.8289\n",
      "Epoch 20/30\n",
      "300/300 [==============================] - 0s 120us/sample - loss: 0.4067 - accuracy: 0.8567 - val_loss: 0.7043 - val_accuracy: 0.8289\n",
      "Epoch 21/30\n",
      "300/300 [==============================] - 0s 119us/sample - loss: 0.4067 - accuracy: 0.8567 - val_loss: 0.7141 - val_accuracy: 0.8289\n",
      "Epoch 22/30\n",
      "300/300 [==============================] - 0s 118us/sample - loss: 0.4171 - accuracy: 0.8567 - val_loss: 0.7301 - val_accuracy: 0.8289\n",
      "Epoch 23/30\n",
      "300/300 [==============================] - 0s 160us/sample - loss: 0.4052 - accuracy: 0.8533 - val_loss: 0.7008 - val_accuracy: 0.8289\n",
      "Epoch 24/30\n",
      "300/300 [==============================] - 0s 115us/sample - loss: 0.4044 - accuracy: 0.8467 - val_loss: 0.7415 - val_accuracy: 0.7895\n",
      "Epoch 25/30\n",
      "300/300 [==============================] - 0s 120us/sample - loss: 0.4306 - accuracy: 0.8600 - val_loss: 0.7051 - val_accuracy: 0.8289\n",
      "Epoch 26/30\n",
      "300/300 [==============================] - 0s 123us/sample - loss: 0.4326 - accuracy: 0.8567 - val_loss: 0.6977 - val_accuracy: 0.8289\n",
      "Epoch 27/30\n",
      "300/300 [==============================] - 0s 120us/sample - loss: 0.3915 - accuracy: 0.8533 - val_loss: 0.6944 - val_accuracy: 0.8289\n",
      "Epoch 28/30\n",
      "300/300 [==============================] - 0s 123us/sample - loss: 0.4316 - accuracy: 0.8500 - val_loss: 0.7179 - val_accuracy: 0.8289\n",
      "Epoch 29/30\n",
      "300/300 [==============================] - 0s 120us/sample - loss: 0.4237 - accuracy: 0.8467 - val_loss: 0.6931 - val_accuracy: 0.8289\n",
      "Epoch 30/30\n",
      "300/300 [==============================] - 0s 125us/sample - loss: 0.4123 - accuracy: 0.8533 - val_loss: 0.7012 - val_accuracy: 0.8289\n"
     ]
    }
   ],
   "source": [
    "# 딥러닝 실행\n",
    "## Validation set의 비율을 20%  (validation_split = 0.2)\n",
    "history = model.fit(x_train, y_train, validation_split = 0.2, epochs=30, batch_size=10) \n",
    "## 20회반복 , 10개씩 읽어들인다."
   ]
  },
  {
   "cell_type": "code",
   "execution_count": 13,
   "metadata": {},
   "outputs": [
    {
     "name": "stdout",
     "output_type": "stream",
     "text": [
      "94/94 - 0s - loss: 0.5736 - accuracy: 0.8404\n",
      "\n",
      " Accuracy: 0.8404\n"
     ]
    }
   ],
   "source": [
    "# 결과 출력\n",
    "# evaluate() returns the loss value & metrics values for the model \n",
    "print(\"\\n Accuracy: %.4f\" % (model.evaluate(x_test, y_test, verbose=2))[1])"
   ]
  },
  {
   "cell_type": "code",
   "execution_count": 14,
   "metadata": {},
   "outputs": [
    {
     "data": {
      "text/plain": [
       "<tensorflow.python.keras.callbacks.History at 0x220e939c688>"
      ]
     },
     "execution_count": 14,
     "metadata": {},
     "output_type": "execute_result"
    }
   ],
   "source": [
    "history"
   ]
  },
  {
   "cell_type": "code",
   "execution_count": 15,
   "metadata": {},
   "outputs": [
    {
     "data": {
      "text/plain": [
       "{'loss': [0.42937473133206366,\n",
       "  0.41716021423538524,\n",
       "  0.4262506199379762,\n",
       "  0.43164667785167693,\n",
       "  0.407400477429231,\n",
       "  0.43014260406295457,\n",
       "  0.45763619368275005,\n",
       "  0.42152893617749215,\n",
       "  0.4525566143294176,\n",
       "  0.4215107866873344,\n",
       "  0.4172483851512273,\n",
       "  0.40897836834192275,\n",
       "  0.42210033964365723,\n",
       "  0.5012023394306501,\n",
       "  0.5349653803743422,\n",
       "  0.39907585581143695,\n",
       "  0.40604701278110344,\n",
       "  0.503556589782238,\n",
       "  0.4132382690906525,\n",
       "  0.40228374575575193],\n",
       " 'accuracy': [0.85333335,\n",
       "  0.86,\n",
       "  0.85,\n",
       "  0.8466667,\n",
       "  0.85333335,\n",
       "  0.85,\n",
       "  0.82666665,\n",
       "  0.85,\n",
       "  0.85,\n",
       "  0.8566667,\n",
       "  0.86,\n",
       "  0.85,\n",
       "  0.8233333,\n",
       "  0.81666666,\n",
       "  0.8333333,\n",
       "  0.85333335,\n",
       "  0.85,\n",
       "  0.81333333,\n",
       "  0.85,\n",
       "  0.85],\n",
       " 'val_loss': [0.6297890534134287,\n",
       "  0.6739537993347958,\n",
       "  0.6512061537880647,\n",
       "  0.635238760199986,\n",
       "  0.6638753808250553,\n",
       "  0.6363867713432563,\n",
       "  0.73629972005361,\n",
       "  0.6415457658861813,\n",
       "  0.6242767674358267,\n",
       "  0.6304758718531382,\n",
       "  0.6280661964494931,\n",
       "  0.6468839363047951,\n",
       "  0.7882290611925878,\n",
       "  0.7617613990840159,\n",
       "  0.7301251344186696,\n",
       "  0.6530360536355722,\n",
       "  0.8065360111527538,\n",
       "  0.6336357048467586,\n",
       "  0.6456632271016899,\n",
       "  0.6361440663274965],\n",
       " 'val_accuracy': [0.82894737,\n",
       "  0.82894737,\n",
       "  0.82894737,\n",
       "  0.82894737,\n",
       "  0.82894737,\n",
       "  0.82894737,\n",
       "  0.82894737,\n",
       "  0.82894737,\n",
       "  0.82894737,\n",
       "  0.82894737,\n",
       "  0.82894737,\n",
       "  0.80263156,\n",
       "  0.82894737,\n",
       "  0.82894737,\n",
       "  0.82894737,\n",
       "  0.80263156,\n",
       "  0.82894737,\n",
       "  0.80263156,\n",
       "  0.82894737,\n",
       "  0.82894737]}"
      ]
     },
     "execution_count": 15,
     "metadata": {},
     "output_type": "execute_result"
    }
   ],
   "source": [
    "history.history"
   ]
  },
  {
   "cell_type": "code",
   "execution_count": 20,
   "metadata": {},
   "outputs": [
    {
     "data": {
      "text/html": [
       "<div>\n",
       "<style scoped>\n",
       "    .dataframe tbody tr th:only-of-type {\n",
       "        vertical-align: middle;\n",
       "    }\n",
       "\n",
       "    .dataframe tbody tr th {\n",
       "        vertical-align: top;\n",
       "    }\n",
       "\n",
       "    .dataframe thead th {\n",
       "        text-align: right;\n",
       "    }\n",
       "</style>\n",
       "<table border=\"1\" class=\"dataframe\">\n",
       "  <thead>\n",
       "    <tr style=\"text-align: right;\">\n",
       "      <th></th>\n",
       "      <th>loss</th>\n",
       "      <th>accuracy</th>\n",
       "      <th>val_loss</th>\n",
       "      <th>val_accuracy</th>\n",
       "    </tr>\n",
       "  </thead>\n",
       "  <tbody>\n",
       "    <tr>\n",
       "      <th>0</th>\n",
       "      <td>0.429375</td>\n",
       "      <td>0.853333</td>\n",
       "      <td>0.629789</td>\n",
       "      <td>0.828947</td>\n",
       "    </tr>\n",
       "    <tr>\n",
       "      <th>1</th>\n",
       "      <td>0.417160</td>\n",
       "      <td>0.860000</td>\n",
       "      <td>0.673954</td>\n",
       "      <td>0.828947</td>\n",
       "    </tr>\n",
       "    <tr>\n",
       "      <th>2</th>\n",
       "      <td>0.426251</td>\n",
       "      <td>0.850000</td>\n",
       "      <td>0.651206</td>\n",
       "      <td>0.828947</td>\n",
       "    </tr>\n",
       "    <tr>\n",
       "      <th>3</th>\n",
       "      <td>0.431647</td>\n",
       "      <td>0.846667</td>\n",
       "      <td>0.635239</td>\n",
       "      <td>0.828947</td>\n",
       "    </tr>\n",
       "    <tr>\n",
       "      <th>4</th>\n",
       "      <td>0.407400</td>\n",
       "      <td>0.853333</td>\n",
       "      <td>0.663875</td>\n",
       "      <td>0.828947</td>\n",
       "    </tr>\n",
       "  </tbody>\n",
       "</table>\n",
       "</div>"
      ],
      "text/plain": [
       "       loss  accuracy  val_loss  val_accuracy\n",
       "0  0.429375  0.853333  0.629789      0.828947\n",
       "1  0.417160  0.860000  0.673954      0.828947\n",
       "2  0.426251  0.850000  0.651206      0.828947\n",
       "3  0.431647  0.846667  0.635239      0.828947\n",
       "4  0.407400  0.853333  0.663875      0.828947"
      ]
     },
     "execution_count": 20,
     "metadata": {},
     "output_type": "execute_result"
    }
   ],
   "source": [
    "import pandas as pd\n",
    "df = pd.DataFrame(data = history.history)\n",
    "df.head()"
   ]
  },
  {
   "cell_type": "markdown",
   "metadata": {},
   "source": [
    "###### 향후에 아래 항목으로 이용 가능 \n",
    "- history.history['accuracy']\n",
    "- history.history['val_accuracy']\n",
    "- history.history['loss']\n",
    "- history.history['val_loss']"
   ]
  },
  {
   "cell_type": "code",
   "execution_count": null,
   "metadata": {},
   "outputs": [],
   "source": []
  }
 ],
 "metadata": {
  "kernelspec": {
   "display_name": "Python 3",
   "language": "python",
   "name": "python3"
  },
  "language_info": {
   "codemirror_mode": {
    "name": "ipython",
    "version": 3
   },
   "file_extension": ".py",
   "mimetype": "text/x-python",
   "name": "python",
   "nbconvert_exporter": "python",
   "pygments_lexer": "ipython3",
   "version": "3.7.7"
  }
 },
 "nbformat": 4,
 "nbformat_minor": 4
}
