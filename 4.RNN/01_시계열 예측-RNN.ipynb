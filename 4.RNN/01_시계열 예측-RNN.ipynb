{
 "cells": [
  {
   "cell_type": "markdown",
   "metadata": {},
   "source": [
    "# 시계열 예측 문제\n",
    "- 사인파형 시계열을 입력으로 다음 스텝의 출력을 예측\n",
    "- 3개의 순서열을 입력한 후 출력값이 target과 일치하게 만듦"
   ]
  },
  {
   "cell_type": "code",
   "execution_count": 1,
   "metadata": {},
   "outputs": [],
   "source": [
    "import numpy as np  "
   ]
  },
  {
   "cell_type": "code",
   "execution_count": 2,
   "metadata": {},
   "outputs": [
    {
     "data": {
      "image/png": "[encoded data removed]",
      "text/plain": [
       "<Figure size 432x288 with 1 Axes>"
      ]
     },
     "metadata": {
      "needs_background": "light"
     },
     "output_type": "display_data"
    }
   ],
   "source": [
    "s = np.sin(2 * np.pi * 0.125 * np.arange(20))\n",
    "plt.plot(s, 'ro-')\n",
    "plt.xlim(-0.5, 20.5)\n",
    "plt.ylim(-1.1, 1.1)\n",
    "plt.show()"
   ]
  },
  {
   "cell_type": "markdown",
   "metadata": {},
   "source": [
    "### 원래의 시계열 벡터를 Toeplitz 행렬 형태로 변환\n",
    "#### (대각선 위의 성분들이 같은 정사각 행렬)"
   ]
  },
  {
   "cell_type": "code",
   "execution_count": 3,
   "metadata": {},
   "outputs": [
    {
     "data": {
      "text/plain": [
       "array([[ 0.00000000e+00,  7.07106781e-01,  1.00000000e+00],\n",
       "       [ 7.07106781e-01,  1.00000000e+00,  7.07106781e-01],\n",
       "       [ 1.00000000e+00,  7.07106781e-01,  1.22464680e-16],\n",
       "       [ 7.07106781e-01,  1.22464680e-16, -7.07106781e-01],\n",
       "       [ 1.22464680e-16, -7.07106781e-01, -1.00000000e+00]])"
      ]
     },
     "execution_count": 3,
     "metadata": {},
     "output_type": "execute_result"
    }
   ],
   "source": [
    "from scipy.linalg import toeplitz\n",
    "S = np.fliplr(toeplitz(np.r_[s[-1], np.zeros(s.shape[0] - 2)], s[::-1]))\n",
    "S[:5, :3]"
   ]
  },
  {
   "cell_type": "code",
   "execution_count": 4,
   "metadata": {},
   "outputs": [
    {
     "data": {
      "text/plain": [
       "array([[ 0.00000000e+00,  7.07106781e-01,  1.00000000e+00,\n",
       "         7.07106781e-01,  1.22464680e-16, -7.07106781e-01,\n",
       "        -1.00000000e+00, -7.07106781e-01, -2.44929360e-16,\n",
       "         7.07106781e-01,  1.00000000e+00,  7.07106781e-01,\n",
       "         3.67394040e-16, -7.07106781e-01, -1.00000000e+00,\n",
       "        -7.07106781e-01, -4.89858720e-16,  7.07106781e-01,\n",
       "         1.00000000e+00,  7.07106781e-01],\n",
       "       [ 7.07106781e-01,  1.00000000e+00,  7.07106781e-01,\n",
       "         1.22464680e-16, -7.07106781e-01, -1.00000000e+00,\n",
       "        -7.07106781e-01, -2.44929360e-16,  7.07106781e-01,\n",
       "         1.00000000e+00,  7.07106781e-01,  3.67394040e-16,\n",
       "        -7.07106781e-01, -1.00000000e+00, -7.07106781e-01,\n",
       "        -4.89858720e-16,  7.07106781e-01,  1.00000000e+00,\n",
       "         7.07106781e-01,  0.00000000e+00],\n",
       "       [ 1.00000000e+00,  7.07106781e-01,  1.22464680e-16,\n",
       "        -7.07106781e-01, -1.00000000e+00, -7.07106781e-01,\n",
       "        -2.44929360e-16,  7.07106781e-01,  1.00000000e+00,\n",
       "         7.07106781e-01,  3.67394040e-16, -7.07106781e-01,\n",
       "        -1.00000000e+00, -7.07106781e-01, -4.89858720e-16,\n",
       "         7.07106781e-01,  1.00000000e+00,  7.07106781e-01,\n",
       "         0.00000000e+00,  0.00000000e+00],\n",
       "       [ 7.07106781e-01,  1.22464680e-16, -7.07106781e-01,\n",
       "        -1.00000000e+00, -7.07106781e-01, -2.44929360e-16,\n",
       "         7.07106781e-01,  1.00000000e+00,  7.07106781e-01,\n",
       "         3.67394040e-16, -7.07106781e-01, -1.00000000e+00,\n",
       "        -7.07106781e-01, -4.89858720e-16,  7.07106781e-01,\n",
       "         1.00000000e+00,  7.07106781e-01,  0.00000000e+00,\n",
       "         0.00000000e+00,  0.00000000e+00],\n",
       "       [ 1.22464680e-16, -7.07106781e-01, -1.00000000e+00,\n",
       "        -7.07106781e-01, -2.44929360e-16,  7.07106781e-01,\n",
       "         1.00000000e+00,  7.07106781e-01,  3.67394040e-16,\n",
       "        -7.07106781e-01, -1.00000000e+00, -7.07106781e-01,\n",
       "        -4.89858720e-16,  7.07106781e-01,  1.00000000e+00,\n",
       "         7.07106781e-01,  0.00000000e+00,  0.00000000e+00,\n",
       "         0.00000000e+00,  0.00000000e+00],\n",
       "       [-7.07106781e-01, -1.00000000e+00, -7.07106781e-01,\n",
       "        -2.44929360e-16,  7.07106781e-01,  1.00000000e+00,\n",
       "         7.07106781e-01,  3.67394040e-16, -7.07106781e-01,\n",
       "        -1.00000000e+00, -7.07106781e-01, -4.89858720e-16,\n",
       "         7.07106781e-01,  1.00000000e+00,  7.07106781e-01,\n",
       "         0.00000000e+00,  0.00000000e+00,  0.00000000e+00,\n",
       "         0.00000000e+00,  0.00000000e+00],\n",
       "       [-1.00000000e+00, -7.07106781e-01, -2.44929360e-16,\n",
       "         7.07106781e-01,  1.00000000e+00,  7.07106781e-01,\n",
       "         3.67394040e-16, -7.07106781e-01, -1.00000000e+00,\n",
       "        -7.07106781e-01, -4.89858720e-16,  7.07106781e-01,\n",
       "         1.00000000e+00,  7.07106781e-01,  0.00000000e+00,\n",
       "         0.00000000e+00,  0.00000000e+00,  0.00000000e+00,\n",
       "         0.00000000e+00,  0.00000000e+00],\n",
       "       [-7.07106781e-01, -2.44929360e-16,  7.07106781e-01,\n",
       "         1.00000000e+00,  7.07106781e-01,  3.67394040e-16,\n",
       "        -7.07106781e-01, -1.00000000e+00, -7.07106781e-01,\n",
       "        -4.89858720e-16,  7.07106781e-01,  1.00000000e+00,\n",
       "         7.07106781e-01,  0.00000000e+00,  0.00000000e+00,\n",
       "         0.00000000e+00,  0.00000000e+00,  0.00000000e+00,\n",
       "         0.00000000e+00,  0.00000000e+00],\n",
       "       [-2.44929360e-16,  7.07106781e-01,  1.00000000e+00,\n",
       "         7.07106781e-01,  3.67394040e-16, -7.07106781e-01,\n",
       "        -1.00000000e+00, -7.07106781e-01, -4.89858720e-16,\n",
       "         7.07106781e-01,  1.00000000e+00,  7.07106781e-01,\n",
       "         0.00000000e+00,  0.00000000e+00,  0.00000000e+00,\n",
       "         0.00000000e+00,  0.00000000e+00,  0.00000000e+00,\n",
       "         0.00000000e+00,  0.00000000e+00],\n",
       "       [ 7.07106781e-01,  1.00000000e+00,  7.07106781e-01,\n",
       "         3.67394040e-16, -7.07106781e-01, -1.00000000e+00,\n",
       "        -7.07106781e-01, -4.89858720e-16,  7.07106781e-01,\n",
       "         1.00000000e+00,  7.07106781e-01,  0.00000000e+00,\n",
       "         0.00000000e+00,  0.00000000e+00,  0.00000000e+00,\n",
       "         0.00000000e+00,  0.00000000e+00,  0.00000000e+00,\n",
       "         0.00000000e+00,  0.00000000e+00],\n",
       "       [ 1.00000000e+00,  7.07106781e-01,  3.67394040e-16,\n",
       "        -7.07106781e-01, -1.00000000e+00, -7.07106781e-01,\n",
       "        -4.89858720e-16,  7.07106781e-01,  1.00000000e+00,\n",
       "         7.07106781e-01,  0.00000000e+00,  0.00000000e+00,\n",
       "         0.00000000e+00,  0.00000000e+00,  0.00000000e+00,\n",
       "         0.00000000e+00,  0.00000000e+00,  0.00000000e+00,\n",
       "         0.00000000e+00,  0.00000000e+00],\n",
       "       [ 7.07106781e-01,  3.67394040e-16, -7.07106781e-01,\n",
       "        -1.00000000e+00, -7.07106781e-01, -4.89858720e-16,\n",
       "         7.07106781e-01,  1.00000000e+00,  7.07106781e-01,\n",
       "         0.00000000e+00,  0.00000000e+00,  0.00000000e+00,\n",
       "         0.00000000e+00,  0.00000000e+00,  0.00000000e+00,\n",
       "         0.00000000e+00,  0.00000000e+00,  0.00000000e+00,\n",
       "         0.00000000e+00,  0.00000000e+00],\n",
       "       [ 3.67394040e-16, -7.07106781e-01, -1.00000000e+00,\n",
       "        -7.07106781e-01, -4.89858720e-16,  7.07106781e-01,\n",
       "         1.00000000e+00,  7.07106781e-01,  0.00000000e+00,\n",
       "         0.00000000e+00,  0.00000000e+00,  0.00000000e+00,\n",
       "         0.00000000e+00,  0.00000000e+00,  0.00000000e+00,\n",
       "         0.00000000e+00,  0.00000000e+00,  0.00000000e+00,\n",
       "         0.00000000e+00,  0.00000000e+00],\n",
       "       [-7.07106781e-01, -1.00000000e+00, -7.07106781e-01,\n",
       "        -4.89858720e-16,  7.07106781e-01,  1.00000000e+00,\n",
       "         7.07106781e-01,  0.00000000e+00,  0.00000000e+00,\n",
       "         0.00000000e+00,  0.00000000e+00,  0.00000000e+00,\n",
       "         0.00000000e+00,  0.00000000e+00,  0.00000000e+00,\n",
       "         0.00000000e+00,  0.00000000e+00,  0.00000000e+00,\n",
       "         0.00000000e+00,  0.00000000e+00],\n",
       "       [-1.00000000e+00, -7.07106781e-01, -4.89858720e-16,\n",
       "         7.07106781e-01,  1.00000000e+00,  7.07106781e-01,\n",
       "         0.00000000e+00,  0.00000000e+00,  0.00000000e+00,\n",
       "         0.00000000e+00,  0.00000000e+00,  0.00000000e+00,\n",
       "         0.00000000e+00,  0.00000000e+00,  0.00000000e+00,\n",
       "         0.00000000e+00,  0.00000000e+00,  0.00000000e+00,\n",
       "         0.00000000e+00,  0.00000000e+00],\n",
       "       [-7.07106781e-01, -4.89858720e-16,  7.07106781e-01,\n",
       "         1.00000000e+00,  7.07106781e-01,  0.00000000e+00,\n",
       "         0.00000000e+00,  0.00000000e+00,  0.00000000e+00,\n",
       "         0.00000000e+00,  0.00000000e+00,  0.00000000e+00,\n",
       "         0.00000000e+00,  0.00000000e+00,  0.00000000e+00,\n",
       "         0.00000000e+00,  0.00000000e+00,  0.00000000e+00,\n",
       "         0.00000000e+00,  0.00000000e+00],\n",
       "       [-4.89858720e-16,  7.07106781e-01,  1.00000000e+00,\n",
       "         7.07106781e-01,  0.00000000e+00,  0.00000000e+00,\n",
       "         0.00000000e+00,  0.00000000e+00,  0.00000000e+00,\n",
       "         0.00000000e+00,  0.00000000e+00,  0.00000000e+00,\n",
       "         0.00000000e+00,  0.00000000e+00,  0.00000000e+00,\n",
       "         0.00000000e+00,  0.00000000e+00,  0.00000000e+00,\n",
       "         0.00000000e+00,  0.00000000e+00],\n",
       "       [ 7.07106781e-01,  1.00000000e+00,  7.07106781e-01,\n",
       "         0.00000000e+00,  0.00000000e+00,  0.00000000e+00,\n",
       "         0.00000000e+00,  0.00000000e+00,  0.00000000e+00,\n",
       "         0.00000000e+00,  0.00000000e+00,  0.00000000e+00,\n",
       "         0.00000000e+00,  0.00000000e+00,  0.00000000e+00,\n",
       "         0.00000000e+00,  0.00000000e+00,  0.00000000e+00,\n",
       "         0.00000000e+00,  0.00000000e+00],\n",
       "       [ 1.00000000e+00,  7.07106781e-01,  0.00000000e+00,\n",
       "         0.00000000e+00,  0.00000000e+00,  0.00000000e+00,\n",
       "         0.00000000e+00,  0.00000000e+00,  0.00000000e+00,\n",
       "         0.00000000e+00,  0.00000000e+00,  0.00000000e+00,\n",
       "         0.00000000e+00,  0.00000000e+00,  0.00000000e+00,\n",
       "         0.00000000e+00,  0.00000000e+00,  0.00000000e+00,\n",
       "         0.00000000e+00,  0.00000000e+00]])"
      ]
     },
     "execution_count": 4,
     "metadata": {},
     "output_type": "execute_result"
    }
   ],
   "source": [
    "S"
   ]
  },
  {
   "cell_type": "code",
   "execution_count": 5,
   "metadata": {},
   "outputs": [
    {
     "data": {
      "text/plain": [
       "((18, 3, 1), (18,))"
      ]
     },
     "execution_count": 5,
     "metadata": {},
     "output_type": "execute_result"
    }
   ],
   "source": [
    "X_train = S[:-1, :3][:, :, np.newaxis]\n",
    "Y_train = S[:-1, 3]\n",
    "X_train.shape, Y_train.shape"
   ]
  },
  {
   "cell_type": "code",
   "execution_count": 5,
   "metadata": {},
   "outputs": [
    {
     "data": {
      "text/plain": [
       "array([[[ 0.00000000e+00],\n",
       "        [ 7.07106781e-01],\n",
       "        [ 1.00000000e+00]],\n",
       "\n",
       "       [[ 7.07106781e-01],\n",
       "        [ 1.00000000e+00],\n",
       "        [ 7.07106781e-01]],\n",
       "\n",
       "       [[ 1.00000000e+00],\n",
       "        [ 7.07106781e-01],\n",
       "        [ 1.22464680e-16]],\n",
       "\n",
       "       [[ 7.07106781e-01],\n",
       "        [ 1.22464680e-16],\n",
       "        [-7.07106781e-01]]])"
      ]
     },
     "execution_count": 5,
     "metadata": {},
     "output_type": "execute_result"
    }
   ],
   "source": [
    "X_train[:4]"
   ]
  },
  {
   "cell_type": "code",
   "execution_count": 6,
   "metadata": {},
   "outputs": [
    {
     "data": {
      "text/plain": [
       "array([ 7.07106781e-01,  1.22464680e-16, -7.07106781e-01, -1.00000000e+00])"
      ]
     },
     "execution_count": 6,
     "metadata": {},
     "output_type": "execute_result"
    }
   ],
   "source": [
    "Y_train[:4]"
   ]
  },
  {
   "cell_type": "code",
   "execution_count": 7,
   "metadata": {},
   "outputs": [
    {
     "data": {
      "image/png": "[encoded data removed]",
      "text/plain": [
       "<Figure size 720x432 with 2 Axes>"
      ]
     },
     "metadata": {
      "needs_background": "light"
     },
     "output_type": "display_data"
    }
   ],
   "source": [
    "plt.figure(figsize=(10,6))\n",
    "\n",
    "plt.subplot(211)\n",
    "plt.plot([0, 1, 2], X_train[0].flatten(), 'bo-', label=\"input sequence\")\n",
    "plt.plot([3], Y_train[0], 'ro', label=\"target\")\n",
    "plt.xlim(-0.5, 4.5)\n",
    "plt.ylim(-1.1, 1.1)\n",
    "plt.legend()\n",
    "plt.grid()\n",
    "plt.title(\"First sample sequence\")\n",
    "\n",
    "plt.subplot(212)\n",
    "plt.plot([1, 2, 3], X_train[1].flatten(), 'bo-', label=\"input sequence\")\n",
    "plt.plot([4], Y_train[1], 'ro', label=\"target\")\n",
    "plt.xlim(-0.5, 4.5)\n",
    "plt.ylim(-1.1, 1.1)\n",
    "plt.legend()\n",
    "plt.grid()\n",
    "plt.title(\"Second sample sequence\")\n",
    "\n",
    "plt.tight_layout()\n",
    "plt.show()"
   ]
  },
  {
   "cell_type": "markdown",
   "metadata": {},
   "source": [
    "### RNN으로 해결 - SimpleRNN() 사용"
   ]
  },
  {
   "cell_type": "code",
   "execution_count": 8,
   "metadata": {},
   "outputs": [
    {
     "name": "stderr",
     "output_type": "stream",
     "text": [
      "C:\\ProgramData\\Anaconda3\\envs\\tf2\\lib\\site-packages\\pydot.py:18: UserWarning: Couldn't import dot_parser, loading of dot files will not be possible.\n",
      "  \"Couldn't import dot_parser, \"\n",
      "Using TensorFlow backend.\n"
     ]
    }
   ],
   "source": [
    "from tensorflow import keras\n",
    "from keras.models import Sequential\n",
    "from keras.layers import SimpleRNN, Dense\n",
    "\n",
    "seed = 2020\n",
    "np.random.seed(seed)"
   ]
  },
  {
   "cell_type": "code",
   "execution_count": 9,
   "metadata": {},
   "outputs": [
    {
     "name": "stdout",
     "output_type": "stream",
     "text": [
      "Model: \"sequential_1\"\n",
      "_________________________________________________________________\n",
      "Layer (type)                 Output Shape              Param #   \n",
      "=================================================================\n",
      "simple_rnn_1 (SimpleRNN)     (None, 10)                120       \n",
      "_________________________________________________________________\n",
      "dense_1 (Dense)              (None, 1)                 11        \n",
      "=================================================================\n",
      "Total params: 131\n",
      "Trainable params: 131\n",
      "Non-trainable params: 0\n",
      "_________________________________________________________________\n"
     ]
    }
   ],
   "source": [
    "model = Sequential()\n",
    "model.add(SimpleRNN(10, input_shape=(3, 1)))\n",
    "model.add(Dense(1, activation=\"linear\"))\n",
    "model.summary()\n",
    "## 파라미터 120개인 이유 : (1 + 10) * 10 +10\n",
    "## 24.순환 신경망(RNN) ppt 참조 - 5page"
   ]
  },
  {
   "cell_type": "code",
   "execution_count": 10,
   "metadata": {},
   "outputs": [],
   "source": [
    "model.compile(loss='mse', optimizer='sgd')"
   ]
  },
  {
   "cell_type": "code",
   "execution_count": 11,
   "metadata": {},
   "outputs": [
    {
     "data": {
      "image/png": "[encoded data removed]",
      "text/plain": [
       "<Figure size 432x288 with 1 Axes>"
      ]
     },
     "metadata": {
      "needs_background": "light"
     },
     "output_type": "display_data"
    }
   ],
   "source": [
    "plt.plot(Y_train, 'ro-', label=\"target\")\n",
    "plt.plot(model.predict(X_train[:, :, :]), 'bs-', label=\"output\")\n",
    "plt.xlim(-0.5, 20.5)\n",
    "plt.ylim(-1.1, 1.1)\n",
    "plt.legend()\n",
    "plt.title(\"Before training\")\n",
    "plt.show()"
   ]
  },
  {
   "cell_type": "code",
   "execution_count": 12,
   "metadata": {},
   "outputs": [
    {
     "name": "stdout",
     "output_type": "stream",
     "text": [
      "Epoch 1/100\n",
      "18/18 [==============================] - 0s 6ms/step - loss: 0.2927\n",
      "Epoch 2/100\n",
      "18/18 [==============================] - 0s 220us/step - loss: 0.2748\n",
      "Epoch 3/100\n",
      "18/18 [==============================] - 0s 220us/step - loss: 0.2582\n",
      "Epoch 4/100\n",
      "18/18 [==============================] - 0s 222us/step - loss: 0.2427\n",
      "Epoch 5/100\n",
      "18/18 [==============================] - 0s 222us/step - loss: 0.2282\n",
      "Epoch 6/100\n",
      "18/18 [==============================] - 0s 222us/step - loss: 0.2147\n",
      "Epoch 7/100\n",
      "18/18 [==============================] - 0s 222us/step - loss: 0.2020\n",
      "Epoch 8/100\n",
      "18/18 [==============================] - 0s 222us/step - loss: 0.1902\n",
      "Epoch 9/100\n",
      "18/18 [==============================] - 0s 166us/step - loss: 0.1791\n",
      "Epoch 10/100\n",
      "18/18 [==============================] - 0s 222us/step - loss: 0.1686\n",
      "Epoch 11/100\n",
      "18/18 [==============================] - 0s 219us/step - loss: 0.1588\n",
      "Epoch 12/100\n",
      "18/18 [==============================] - 0s 277us/step - loss: 0.1496\n",
      "Epoch 13/100\n",
      "18/18 [==============================] - 0s 222us/step - loss: 0.1410\n",
      "Epoch 14/100\n",
      "18/18 [==============================] - 0s 166us/step - loss: 0.1328\n",
      "Epoch 15/100\n",
      "18/18 [==============================] - 0s 222us/step - loss: 0.1252\n",
      "Epoch 16/100\n",
      "18/18 [==============================] - 0s 221us/step - loss: 0.1179\n",
      "Epoch 17/100\n",
      "18/18 [==============================] - 0s 277us/step - loss: 0.1111\n",
      "Epoch 18/100\n",
      "18/18 [==============================] - 0s 222us/step - loss: 0.1047\n",
      "Epoch 19/100\n",
      "18/18 [==============================] - 0s 222us/step - loss: 0.0987\n",
      "Epoch 20/100\n",
      "18/18 [==============================] - 0s 221us/step - loss: 0.0930\n",
      "Epoch 21/100\n",
      "18/18 [==============================] - 0s 220us/step - loss: 0.0876\n",
      "Epoch 22/100\n",
      "18/18 [==============================] - 0s 222us/step - loss: 0.0826\n",
      "Epoch 23/100\n",
      "18/18 [==============================] - 0s 220us/step - loss: 0.0778\n",
      "Epoch 24/100\n",
      "18/18 [==============================] - 0s 276us/step - loss: 0.0733\n",
      "Epoch 25/100\n",
      "18/18 [==============================] - 0s 222us/step - loss: 0.0691\n",
      "Epoch 26/100\n",
      "18/18 [==============================] - 0s 278us/step - loss: 0.0651\n",
      "Epoch 27/100\n",
      "18/18 [==============================] - 0s 221us/step - loss: 0.0613\n",
      "Epoch 28/100\n",
      "18/18 [==============================] - 0s 222us/step - loss: 0.0578\n",
      "Epoch 29/100\n",
      "18/18 [==============================] - 0s 166us/step - loss: 0.0544\n",
      "Epoch 30/100\n",
      "18/18 [==============================] - 0s 221us/step - loss: 0.0513\n",
      "Epoch 31/100\n",
      "18/18 [==============================] - 0s 222us/step - loss: 0.0483\n",
      "Epoch 32/100\n",
      "18/18 [==============================] - 0s 277us/step - loss: 0.0456\n",
      "Epoch 33/100\n",
      "18/18 [==============================] - 0s 231us/step - loss: 0.0429\n",
      "Epoch 34/100\n",
      "18/18 [==============================] - 0s 222us/step - loss: 0.0405\n",
      "Epoch 35/100\n",
      "18/18 [==============================] - 0s 222us/step - loss: 0.0381\n",
      "Epoch 36/100\n",
      "18/18 [==============================] - 0s 222us/step - loss: 0.0359\n",
      "Epoch 37/100\n",
      "18/18 [==============================] - 0s 166us/step - loss: 0.0339\n",
      "Epoch 38/100\n",
      "18/18 [==============================] - 0s 171us/step - loss: 0.0319\n",
      "Epoch 39/100\n",
      "18/18 [==============================] - 0s 222us/step - loss: 0.0301\n",
      "Epoch 40/100\n",
      "18/18 [==============================] - 0s 222us/step - loss: 0.0284\n",
      "Epoch 41/100\n",
      "18/18 [==============================] - 0s 277us/step - loss: 0.0268\n",
      "Epoch 42/100\n",
      "18/18 [==============================] - 0s 222us/step - loss: 0.0253\n",
      "Epoch 43/100\n",
      "18/18 [==============================] - 0s 166us/step - loss: 0.0238\n",
      "Epoch 44/100\n",
      "18/18 [==============================] - 0s 222us/step - loss: 0.0225\n",
      "Epoch 45/100\n",
      "18/18 [==============================] - 0s 222us/step - loss: 0.0212\n",
      "Epoch 46/100\n",
      "18/18 [==============================] - 0s 166us/step - loss: 0.0201\n",
      "Epoch 47/100\n",
      "18/18 [==============================] - 0s 166us/step - loss: 0.0189\n",
      "Epoch 48/100\n",
      "18/18 [==============================] - 0s 166us/step - loss: 0.0179\n",
      "Epoch 49/100\n",
      "18/18 [==============================] - 0s 232us/step - loss: 0.0169\n",
      "Epoch 50/100\n",
      "18/18 [==============================] - 0s 195us/step - loss: 0.0160\n",
      "Epoch 51/100\n",
      "18/18 [==============================] - 0s 195us/step - loss: 0.0151\n",
      "Epoch 52/100\n",
      "18/18 [==============================] - 0s 166us/step - loss: 0.0143\n",
      "Epoch 53/100\n",
      "18/18 [==============================] - 0s 222us/step - loss: 0.0136\n",
      "Epoch 54/100\n",
      "18/18 [==============================] - 0s 222us/step - loss: 0.0128\n",
      "Epoch 55/100\n",
      "18/18 [==============================] - 0s 222us/step - loss: 0.0122\n",
      "Epoch 56/100\n",
      "18/18 [==============================] - 0s 277us/step - loss: 0.0115\n",
      "Epoch 57/100\n",
      "18/18 [==============================] - 0s 166us/step - loss: 0.0110\n",
      "Epoch 58/100\n",
      "18/18 [==============================] - 0s 166us/step - loss: 0.0104\n",
      "Epoch 59/100\n",
      "18/18 [==============================] - 0s 277us/step - loss: 0.0099\n",
      "Epoch 60/100\n",
      "18/18 [==============================] - 0s 222us/step - loss: 0.0094\n",
      "Epoch 61/100\n",
      "18/18 [==============================] - 0s 222us/step - loss: 0.0089\n",
      "Epoch 62/100\n",
      "18/18 [==============================] - 0s 167us/step - loss: 0.0085\n",
      "Epoch 63/100\n",
      "18/18 [==============================] - 0s 166us/step - loss: 0.0081\n",
      "Epoch 64/100\n",
      "18/18 [==============================] - 0s 166us/step - loss: 0.0077\n",
      "Epoch 65/100\n",
      "18/18 [==============================] - 0s 222us/step - loss: 0.0074\n",
      "Epoch 66/100\n",
      "18/18 [==============================] - 0s 166us/step - loss: 0.0070\n",
      "Epoch 67/100\n",
      "18/18 [==============================] - 0s 166us/step - loss: 0.0067\n",
      "Epoch 68/100\n",
      "18/18 [==============================] - 0s 167us/step - loss: 0.0064\n",
      "Epoch 69/100\n",
      "18/18 [==============================] - 0s 166us/step - loss: 0.0062\n",
      "Epoch 70/100\n",
      "18/18 [==============================] - 0s 166us/step - loss: 0.0059\n",
      "Epoch 71/100\n",
      "18/18 [==============================] - 0s 166us/step - loss: 0.0057\n",
      "Epoch 72/100\n",
      "18/18 [==============================] - 0s 222us/step - loss: 0.0054\n",
      "Epoch 73/100\n",
      "18/18 [==============================] - 0s 166us/step - loss: 0.0052\n",
      "Epoch 74/100\n",
      "18/18 [==============================] - 0s 166us/step - loss: 0.0050\n",
      "Epoch 75/100\n",
      "18/18 [==============================] - 0s 166us/step - loss: 0.0048\n",
      "Epoch 76/100\n",
      "18/18 [==============================] - 0s 166us/step - loss: 0.0047\n",
      "Epoch 77/100\n",
      "18/18 [==============================] - 0s 166us/step - loss: 0.0045\n",
      "Epoch 78/100\n",
      "18/18 [==============================] - 0s 222us/step - loss: 0.0043\n",
      "Epoch 79/100\n",
      "18/18 [==============================] - 0s 222us/step - loss: 0.0042\n",
      "Epoch 80/100\n",
      "18/18 [==============================] - 0s 166us/step - loss: 0.0041\n",
      "Epoch 81/100\n",
      "18/18 [==============================] - 0s 166us/step - loss: 0.0039\n",
      "Epoch 82/100\n",
      "18/18 [==============================] - 0s 222us/step - loss: 0.0038\n",
      "Epoch 83/100\n",
      "18/18 [==============================] - 0s 166us/step - loss: 0.0037\n",
      "Epoch 84/100\n",
      "18/18 [==============================] - 0s 166us/step - loss: 0.0036\n",
      "Epoch 85/100\n",
      "18/18 [==============================] - 0s 222us/step - loss: 0.0035\n",
      "Epoch 86/100\n",
      "18/18 [==============================] - 0s 167us/step - loss: 0.0034\n",
      "Epoch 87/100\n",
      "18/18 [==============================] - 0s 222us/step - loss: 0.0033\n",
      "Epoch 88/100\n",
      "18/18 [==============================] - 0s 166us/step - loss: 0.0032\n",
      "Epoch 89/100\n",
      "18/18 [==============================] - 0s 222us/step - loss: 0.0032\n",
      "Epoch 90/100\n",
      "18/18 [==============================] - 0s 166us/step - loss: 0.0031\n",
      "Epoch 91/100\n",
      "18/18 [==============================] - 0s 166us/step - loss: 0.0030\n",
      "Epoch 92/100\n",
      "18/18 [==============================] - 0s 166us/step - loss: 0.0030\n",
      "Epoch 93/100\n",
      "18/18 [==============================] - 0s 222us/step - loss: 0.0029\n",
      "Epoch 94/100\n",
      "18/18 [==============================] - 0s 166us/step - loss: 0.0028\n",
      "Epoch 95/100\n",
      "18/18 [==============================] - 0s 222us/step - loss: 0.0028\n",
      "Epoch 96/100\n",
      "18/18 [==============================] - 0s 166us/step - loss: 0.0027\n",
      "Epoch 97/100\n",
      "18/18 [==============================] - 0s 222us/step - loss: 0.0027\n",
      "Epoch 98/100\n",
      "18/18 [==============================] - 0s 166us/step - loss: 0.0026\n",
      "Epoch 99/100\n",
      "18/18 [==============================] - 0s 111us/step - loss: 0.0026\n"
     ]
    },
    {
     "name": "stdout",
     "output_type": "stream",
     "text": [
      "Epoch 100/100\n",
      "\r",
      "18/18 [==============================] - 0s 222us/step - loss: 0.0026\n"
     ]
    }
   ],
   "source": [
    "history = model.fit(X_train, Y_train, epochs=100) "
   ]
  },
  {
   "cell_type": "markdown",
   "metadata": {},
   "source": [
    "### 결과 확인"
   ]
  },
  {
   "cell_type": "code",
   "execution_count": 13,
   "metadata": {},
   "outputs": [
    {
     "data": {
      "image/png": "[encoded data removed]",
      "text/plain": [
       "<Figure size 432x288 with 1 Axes>"
      ]
     },
     "metadata": {
      "needs_background": "light"
     },
     "output_type": "display_data"
    }
   ],
   "source": [
    "plt.plot(history.history[\"loss\"])\n",
    "plt.title(\"Loss\")\n",
    "plt.show() "
   ]
  },
  {
   "cell_type": "code",
   "execution_count": 14,
   "metadata": {},
   "outputs": [
    {
     "data": {
      "image/png": "[encoded data removed]",
      "text/plain": [
       "<Figure size 432x288 with 1 Axes>"
      ]
     },
     "metadata": {
      "needs_background": "light"
     },
     "output_type": "display_data"
    }
   ],
   "source": [
    "plt.plot(Y_train, 'ro-', label=\"target\")\n",
    "plt.plot(model.predict(X_train[:, :, :]), 'bs-', label=\"output\")\n",
    "plt.xlim(-0.5, 20.5)\n",
    "plt.ylim(-1.1, 1.1)\n",
    "plt.legend()\n",
    "plt.title(\"After training\")\n",
    "plt.show() "
   ]
  },
  {
   "cell_type": "code",
   "execution_count": 15,
   "metadata": {},
   "outputs": [
    {
     "data": {
      "text/plain": [
       "<tf.Variable 'simple_rnn_1/kernel:0' shape=(1, 10) dtype=float32, numpy=\n",
       "array([[ 0.26183817, -0.4158699 , -0.04839181, -0.03293971, -0.45274195,\n",
       "        -0.6426876 , -0.55847985, -0.5010671 , -0.3727306 ,  0.5924795 ]],\n",
       "      dtype=float32)>"
      ]
     },
     "execution_count": 15,
     "metadata": {},
     "output_type": "execute_result"
    }
   ],
   "source": [
    "# 입력에 대한 weights\n",
    "model.weights[0]"
   ]
  },
  {
   "cell_type": "code",
   "execution_count": 16,
   "metadata": {},
   "outputs": [
    {
     "data": {
      "text/plain": [
       "<tf.Variable 'simple_rnn_1/recurrent_kernel:0' shape=(10, 10) dtype=float32, numpy=\n",
       "array([[-0.2799106 , -0.01769305, -0.475199  , -0.07075685,  0.35163015,\n",
       "        -0.5178326 , -0.3002756 , -0.02741877,  0.22698455, -0.411464  ],\n",
       "       [ 0.3723268 , -0.16682407, -0.5125553 ,  0.11159734,  0.20013519,\n",
       "         0.6286368 , -0.13951279, -0.16302577, -0.19805345, -0.28709787],\n",
       "       [-0.18544531, -0.15422042,  0.39557302,  0.25553063, -0.10003302,\n",
       "         0.26476818,  0.11943281,  0.08422434,  0.4114431 , -0.64310473],\n",
       "       [-0.08743107,  0.47623122, -0.05263866, -0.15037817, -0.27609578,\n",
       "         0.31401503, -0.614862  ,  0.30245158,  0.30736613,  0.11142699],\n",
       "       [-0.18576294, -0.26794916, -0.16976508,  0.62253845,  0.01931249,\n",
       "         0.10266052, -0.12760235, -0.25325662,  0.3923128 ,  0.5325745 ],\n",
       "       [ 0.07892572,  0.00944248,  0.41272554,  0.38460454,  0.63781524,\n",
       "         0.0057697 , -0.34338132,  0.40242615, -0.21037014,  0.12263632],\n",
       "       [ 0.34621525,  0.32240272,  0.25696135, -0.11381908,  0.22796506,\n",
       "        -0.05706222, -0.06631841, -0.6628098 ,  0.33518213, -0.03330012],\n",
       "       [-0.14169295, -0.58622456,  0.0740326 , -0.5632765 ,  0.2618589 ,\n",
       "         0.26697326, -0.03216464,  0.06320123,  0.31337038,  0.2063141 ],\n",
       "       [-0.45729947, -0.19192733,  0.21817823, -0.01514126, -0.20701179,\n",
       "         0.05649866, -0.4493449 , -0.44168043, -0.48093498, -0.09048814],\n",
       "       [ 0.60034996, -0.41949815,  0.15038058,  0.05004372, -0.39434668,\n",
       "        -0.39219987, -0.41976434,  0.12395927,  0.06131268, -0.07327649]],\n",
       "      dtype=float32)>"
      ]
     },
     "execution_count": 16,
     "metadata": {},
     "output_type": "execute_result"
    }
   ],
   "source": [
    "# 유닛에 대한 weights\n",
    "model.weights[1]"
   ]
  },
  {
   "cell_type": "code",
   "execution_count": 17,
   "metadata": {},
   "outputs": [
    {
     "data": {
      "text/plain": [
       "<tf.Variable 'simple_rnn_1/bias:0' shape=(10,) dtype=float32, numpy=\n",
       "array([-0.0033265 ,  0.00185159,  0.00344246,  0.0006037 , -0.00228209,\n",
       "        0.00374878, -0.00439652,  0.0020116 ,  0.00049625, -0.00286353],\n",
       "      dtype=float32)>"
      ]
     },
     "execution_count": 17,
     "metadata": {},
     "output_type": "execute_result"
    }
   ],
   "source": [
    "# bias\n",
    "model.weights[2]"
   ]
  },
  {
   "cell_type": "code",
   "execution_count": null,
   "metadata": {},
   "outputs": [],
   "source": []
  },
  {
   "cell_type": "code",
   "execution_count": null,
   "metadata": {},
   "outputs": [],
   "source": [
    "## 모델 2 : 5개로 해보기\n",
    "## 모델 3 : 20개로 해보기"
   ]
  },
  {
   "cell_type": "markdown",
   "metadata": {},
   "source": [
    "##### RNN Node가 5인 경우"
   ]
  },
  {
   "cell_type": "code",
   "execution_count": 21,
   "metadata": {},
   "outputs": [
    {
     "name": "stdout",
     "output_type": "stream",
     "text": [
      "Model: \"sequential_4\"\n",
      "_________________________________________________________________\n",
      "Layer (type)                 Output Shape              Param #   \n",
      "=================================================================\n",
      "simple_rnn_4 (SimpleRNN)     (None, 5)                 35        \n",
      "_________________________________________________________________\n",
      "dense_4 (Dense)              (None, 1)                 6         \n",
      "=================================================================\n",
      "Total params: 41\n",
      "Trainable params: 41\n",
      "Non-trainable params: 0\n",
      "_________________________________________________________________\n"
     ]
    }
   ],
   "source": [
    "model2 = Sequential()\n",
    "model2.add(SimpleRNN(5, input_shape=(3, 1)))\n",
    "model2.add(Dense(1, activation=\"linear\"))\n",
    "model2.summary()\n"
   ]
  },
  {
   "cell_type": "code",
   "execution_count": 22,
   "metadata": {},
   "outputs": [],
   "source": [
    "model2.compile(loss='mse', optimizer='sgd')"
   ]
  },
  {
   "cell_type": "code",
   "execution_count": 23,
   "metadata": {},
   "outputs": [
    {
     "data": {
      "image/png": "[encoded data removed]",
      "text/plain": [
       "<Figure size 432x288 with 1 Axes>"
      ]
     },
     "metadata": {
      "needs_background": "light"
     },
     "output_type": "display_data"
    }
   ],
   "source": [
    "plt.plot(Y_train, 'ro-', label=\"target\")\n",
    "plt.plot(model.predict(X_train[:, :, :]), 'bs-', label=\"output\")\n",
    "plt.xlim(-0.5, 20.5)\n",
    "plt.ylim(-1.1, 1.1)\n",
    "plt.legend()\n",
    "plt.title(\"Before training\")\n",
    "plt.show()"
   ]
  },
  {
   "cell_type": "code",
   "execution_count": 24,
   "metadata": {},
   "outputs": [
    {
     "name": "stdout",
     "output_type": "stream",
     "text": [
      "Epoch 1/100\n",
      "18/18 [==============================] - 0s 4ms/step - loss: 0.7733\n",
      "Epoch 2/100\n",
      "18/18 [==============================] - 0s 0us/step - loss: 0.7235\n",
      "Epoch 3/100\n",
      "18/18 [==============================] - 0s 55us/step - loss: 0.6771\n",
      "Epoch 4/100\n",
      "18/18 [==============================] - 0s 55us/step - loss: 0.6339\n",
      "Epoch 5/100\n",
      "18/18 [==============================] - 0s 55us/step - loss: 0.5936\n",
      "Epoch 6/100\n",
      "18/18 [==============================] - 0s 94us/step - loss: 0.5560\n",
      "Epoch 7/100\n",
      "18/18 [==============================] - 0s 0us/step - loss: 0.5210\n",
      "Epoch 8/100\n",
      "18/18 [==============================] - 0s 0us/step - loss: 0.4884\n",
      "Epoch 9/100\n",
      "18/18 [==============================] - 0s 0us/step - loss: 0.4580\n",
      "Epoch 10/100\n",
      "18/18 [==============================] - 0s 0us/step - loss: 0.4296\n",
      "Epoch 11/100\n",
      "18/18 [==============================] - 0s 55us/step - loss: 0.4032\n",
      "Epoch 12/100\n",
      "18/18 [==============================] - 0s 110us/step - loss: 0.3785\n",
      "Epoch 13/100\n",
      "18/18 [==============================] - 0s 55us/step - loss: 0.3555\n",
      "Epoch 14/100\n",
      "18/18 [==============================] - 0s 111us/step - loss: 0.3341\n",
      "Epoch 15/100\n",
      "18/18 [==============================] - 0s 55us/step - loss: 0.3141\n",
      "Epoch 16/100\n",
      "18/18 [==============================] - 0s 111us/step - loss: 0.2954\n",
      "Epoch 17/100\n",
      "18/18 [==============================] - 0s 55us/step - loss: 0.2779\n",
      "Epoch 18/100\n",
      "18/18 [==============================] - 0s 55us/step - loss: 0.2616\n",
      "Epoch 19/100\n",
      "18/18 [==============================] - 0s 55us/step - loss: 0.2464\n",
      "Epoch 20/100\n",
      "18/18 [==============================] - 0s 111us/step - loss: 0.2322\n",
      "Epoch 21/100\n",
      "18/18 [==============================] - 0s 55us/step - loss: 0.2189\n",
      "Epoch 22/100\n",
      "18/18 [==============================] - 0s 55us/step - loss: 0.2064\n",
      "Epoch 23/100\n",
      "18/18 [==============================] - 0s 55us/step - loss: 0.1948\n",
      "Epoch 24/100\n",
      "18/18 [==============================] - 0s 55us/step - loss: 0.1839\n",
      "Epoch 25/100\n",
      "18/18 [==============================] - 0s 55us/step - loss: 0.1738\n",
      "Epoch 26/100\n",
      "18/18 [==============================] - 0s 56us/step - loss: 0.1642\n",
      "Epoch 27/100\n",
      "18/18 [==============================] - 0s 55us/step - loss: 0.1553\n",
      "Epoch 28/100\n",
      "18/18 [==============================] - 0s 55us/step - loss: 0.1470\n",
      "Epoch 29/100\n",
      "18/18 [==============================] - 0s 55us/step - loss: 0.1391\n",
      "Epoch 30/100\n",
      "18/18 [==============================] - 0s 55us/step - loss: 0.1318\n",
      "Epoch 31/100\n",
      "18/18 [==============================] - 0s 55us/step - loss: 0.1249\n",
      "Epoch 32/100\n",
      "18/18 [==============================] - 0s 55us/step - loss: 0.1185\n",
      "Epoch 33/100\n",
      "18/18 [==============================] - 0s 55us/step - loss: 0.1124\n",
      "Epoch 34/100\n",
      "18/18 [==============================] - 0s 55us/step - loss: 0.1068\n",
      "Epoch 35/100\n",
      "18/18 [==============================] - 0s 55us/step - loss: 0.1014\n",
      "Epoch 36/100\n",
      "18/18 [==============================] - 0s 55us/step - loss: 0.0964\n",
      "Epoch 37/100\n",
      "18/18 [==============================] - 0s 56us/step - loss: 0.0917\n",
      "Epoch 38/100\n",
      "18/18 [==============================] - 0s 55us/step - loss: 0.0873\n",
      "Epoch 39/100\n",
      "18/18 [==============================] - 0s 111us/step - loss: 0.0832\n",
      "Epoch 40/100\n",
      "18/18 [==============================] - 0s 55us/step - loss: 0.0793\n",
      "Epoch 41/100\n",
      "18/18 [==============================] - 0s 55us/step - loss: 0.0756\n",
      "Epoch 42/100\n",
      "18/18 [==============================] - 0s 55us/step - loss: 0.0722\n",
      "Epoch 43/100\n",
      "18/18 [==============================] - 0s 55us/step - loss: 0.0689\n",
      "Epoch 44/100\n",
      "18/18 [==============================] - 0s 55us/step - loss: 0.0659\n",
      "Epoch 45/100\n",
      "18/18 [==============================] - 0s 55us/step - loss: 0.0630\n",
      "Epoch 46/100\n",
      "18/18 [==============================] - 0s 56us/step - loss: 0.0603\n",
      "Epoch 47/100\n",
      "18/18 [==============================] - 0s 111us/step - loss: 0.0577\n",
      "Epoch 48/100\n",
      "18/18 [==============================] - 0s 55us/step - loss: 0.0553\n",
      "Epoch 49/100\n",
      "18/18 [==============================] - 0s 55us/step - loss: 0.0531\n",
      "Epoch 50/100\n",
      "18/18 [==============================] - 0s 55us/step - loss: 0.0509\n",
      "Epoch 51/100\n",
      "18/18 [==============================] - 0s 111us/step - loss: 0.0489\n",
      "Epoch 52/100\n",
      "18/18 [==============================] - 0s 111us/step - loss: 0.0470\n",
      "Epoch 53/100\n",
      "18/18 [==============================] - 0s 55us/step - loss: 0.0452\n",
      "Epoch 54/100\n",
      "18/18 [==============================] - 0s 56us/step - loss: 0.0435\n",
      "Epoch 55/100\n",
      "18/18 [==============================] - 0s 55us/step - loss: 0.0419\n",
      "Epoch 56/100\n",
      "18/18 [==============================] - 0s 55us/step - loss: 0.0404\n",
      "Epoch 57/100\n",
      "18/18 [==============================] - 0s 55us/step - loss: 0.0390\n",
      "Epoch 58/100\n",
      "18/18 [==============================] - 0s 55us/step - loss: 0.0376\n",
      "Epoch 59/100\n",
      "18/18 [==============================] - 0s 55us/step - loss: 0.0364\n",
      "Epoch 60/100\n",
      "18/18 [==============================] - 0s 55us/step - loss: 0.0351\n",
      "Epoch 61/100\n",
      "18/18 [==============================] - 0s 111us/step - loss: 0.0340\n",
      "Epoch 62/100\n",
      "18/18 [==============================] - 0s 111us/step - loss: 0.0329\n",
      "Epoch 63/100\n",
      "18/18 [==============================] - 0s 55us/step - loss: 0.0319\n",
      "Epoch 64/100\n",
      "18/18 [==============================] - 0s 55us/step - loss: 0.0309\n",
      "Epoch 65/100\n",
      "18/18 [==============================] - 0s 111us/step - loss: 0.0300\n",
      "Epoch 66/100\n",
      "18/18 [==============================] - 0s 55us/step - loss: 0.0292\n",
      "Epoch 67/100\n",
      "18/18 [==============================] - 0s 55us/step - loss: 0.0283\n",
      "Epoch 68/100\n",
      "18/18 [==============================] - 0s 55us/step - loss: 0.0276\n",
      "Epoch 69/100\n",
      "18/18 [==============================] - 0s 55us/step - loss: 0.0268\n",
      "Epoch 70/100\n",
      "18/18 [==============================] - 0s 55us/step - loss: 0.0261\n",
      "Epoch 71/100\n",
      "18/18 [==============================] - 0s 55us/step - loss: 0.0254\n",
      "Epoch 72/100\n",
      "18/18 [==============================] - 0s 55us/step - loss: 0.0248\n",
      "Epoch 73/100\n",
      "18/18 [==============================] - 0s 55us/step - loss: 0.0242\n",
      "Epoch 74/100\n",
      "18/18 [==============================] - 0s 55us/step - loss: 0.0236\n",
      "Epoch 75/100\n",
      "18/18 [==============================] - 0s 55us/step - loss: 0.0231\n",
      "Epoch 76/100\n",
      "18/18 [==============================] - 0s 55us/step - loss: 0.0226\n",
      "Epoch 77/100\n",
      "18/18 [==============================] - 0s 111us/step - loss: 0.0221\n",
      "Epoch 78/100\n",
      "18/18 [==============================] - 0s 111us/step - loss: 0.0216\n",
      "Epoch 79/100\n",
      "18/18 [==============================] - 0s 55us/step - loss: 0.0212\n",
      "Epoch 80/100\n",
      "18/18 [==============================] - 0s 55us/step - loss: 0.0208\n",
      "Epoch 81/100\n",
      "18/18 [==============================] - 0s 55us/step - loss: 0.0204\n",
      "Epoch 82/100\n",
      "18/18 [==============================] - 0s 55us/step - loss: 0.0200\n",
      "Epoch 83/100\n",
      "18/18 [==============================] - 0s 55us/step - loss: 0.0196\n",
      "Epoch 84/100\n",
      "18/18 [==============================] - 0s 55us/step - loss: 0.0193\n",
      "Epoch 85/100\n",
      "18/18 [==============================] - 0s 111us/step - loss: 0.0190\n",
      "Epoch 86/100\n",
      "18/18 [==============================] - 0s 55us/step - loss: 0.0186\n",
      "Epoch 87/100\n",
      "18/18 [==============================] - 0s 55us/step - loss: 0.0183\n",
      "Epoch 88/100\n",
      "18/18 [==============================] - 0s 55us/step - loss: 0.0181\n",
      "Epoch 89/100\n",
      "18/18 [==============================] - 0s 55us/step - loss: 0.0178\n",
      "Epoch 90/100\n",
      "18/18 [==============================] - 0s 55us/step - loss: 0.0175\n",
      "Epoch 91/100\n",
      "18/18 [==============================] - 0s 111us/step - loss: 0.0173\n",
      "Epoch 92/100\n",
      "18/18 [==============================] - 0s 55us/step - loss: 0.0170\n",
      "Epoch 93/100\n",
      "18/18 [==============================] - 0s 111us/step - loss: 0.0168\n",
      "Epoch 94/100\n",
      "18/18 [==============================] - 0s 55us/step - loss: 0.0166\n",
      "Epoch 95/100\n",
      "18/18 [==============================] - 0s 55us/step - loss: 0.0164\n",
      "Epoch 96/100\n",
      "18/18 [==============================] - 0s 55us/step - loss: 0.0162\n",
      "Epoch 97/100\n",
      "18/18 [==============================] - 0s 55us/step - loss: 0.0160\n",
      "Epoch 98/100\n",
      "18/18 [==============================] - 0s 55us/step - loss: 0.0158\n",
      "Epoch 99/100\n",
      "18/18 [==============================] - 0s 55us/step - loss: 0.0156\n",
      "Epoch 100/100\n",
      "18/18 [==============================] - 0s 55us/step - loss: 0.0155\n"
     ]
    }
   ],
   "source": [
    "history2 = model2.fit(X_train, Y_train, epochs=100) "
   ]
  },
  {
   "cell_type": "code",
   "execution_count": 25,
   "metadata": {},
   "outputs": [
    {
     "data": {
      "image/png": "[encoded data removed]",
      "text/plain": [
       "<Figure size 432x288 with 1 Axes>"
      ]
     },
     "metadata": {
      "needs_background": "light"
     },
     "output_type": "display_data"
    }
   ],
   "source": [
    "plt.plot(Y_train, 'ro-', label=\"target\")\n",
    "plt.plot(model2.predict(X_train[:, :, :]), 'bs-', label=\"output\")\n",
    "plt.xlim(-0.5, 20.5)\n",
    "plt.ylim(-1.1, 1.1)\n",
    "plt.legend()\n",
    "plt.title(\"After training\")\n",
    "plt.show() "
   ]
  },
  {
   "cell_type": "code",
   "execution_count": null,
   "metadata": {},
   "outputs": [],
   "source": []
  },
  {
   "cell_type": "markdown",
   "metadata": {},
   "source": [
    "##### RNN Node가 20인 경우"
   ]
  },
  {
   "cell_type": "code",
   "execution_count": 31,
   "metadata": {},
   "outputs": [
    {
     "name": "stdout",
     "output_type": "stream",
     "text": [
      "Model: \"sequential_6\"\n",
      "_________________________________________________________________\n",
      "Layer (type)                 Output Shape              Param #   \n",
      "=================================================================\n",
      "simple_rnn_6 (SimpleRNN)     (None, 20)                440       \n",
      "_________________________________________________________________\n",
      "dense_6 (Dense)              (None, 1)                 21        \n",
      "=================================================================\n",
      "Total params: 461\n",
      "Trainable params: 461\n",
      "Non-trainable params: 0\n",
      "_________________________________________________________________\n"
     ]
    }
   ],
   "source": [
    "model3 = Sequential()\n",
    "model3.add(SimpleRNN(20, input_shape=(3, 1)))\n",
    "model3.add(Dense(1, activation=\"linear\"))\n",
    "model3.summary()\n"
   ]
  },
  {
   "cell_type": "code",
   "execution_count": 32,
   "metadata": {},
   "outputs": [],
   "source": [
    "model3.compile(loss='mse', optimizer='sgd')"
   ]
  },
  {
   "cell_type": "code",
   "execution_count": 37,
   "metadata": {},
   "outputs": [
    {
     "data": {
      "image/png": "[encoded data removed]",
      "text/plain": [
       "<Figure size 432x288 with 1 Axes>"
      ]
     },
     "metadata": {
      "needs_background": "light"
     },
     "output_type": "display_data"
    }
   ],
   "source": [
    "plt.plot(Y_train, 'ro-', label=\"target\")\n",
    "plt.plot(model3.predict(X_train[:, :, :]), 'bs-', label=\"output\")\n",
    "plt.xlim(-0.5, 20.5)\n",
    "plt.ylim(-1.1, 1.1)\n",
    "plt.legend()\n",
    "plt.title(\"Before training\")\n",
    "plt.show()"
   ]
  },
  {
   "cell_type": "code",
   "execution_count": 38,
   "metadata": {},
   "outputs": [
    {
     "name": "stdout",
     "output_type": "stream",
     "text": [
      "Epoch 1/100\n",
      "18/18 [==============================] - 0s 55us/step - loss: 4.8099e-04\n",
      "Epoch 2/100\n",
      "18/18 [==============================] - 0s 55us/step - loss: 4.6990e-04\n",
      "Epoch 3/100\n",
      "18/18 [==============================] - 0s 55us/step - loss: 4.5961e-04\n",
      "Epoch 4/100\n",
      "18/18 [==============================] - 0s 55us/step - loss: 4.5009e-04\n",
      "Epoch 5/100\n",
      "18/18 [==============================] - 0s 55us/step - loss: 4.4126e-04\n",
      "Epoch 6/100\n",
      "18/18 [==============================] - 0s 111us/step - loss: 4.3308e-04\n",
      "Epoch 7/100\n",
      "18/18 [==============================] - 0s 55us/step - loss: 4.2549e-04\n",
      "Epoch 8/100\n",
      "18/18 [==============================] - 0s 55us/step - loss: 4.1847e-04\n",
      "Epoch 9/100\n",
      "18/18 [==============================] - 0s 55us/step - loss: 4.1195e-04\n",
      "Epoch 10/100\n",
      "18/18 [==============================] - 0s 55us/step - loss: 4.0592e-04\n",
      "Epoch 11/100\n",
      "18/18 [==============================] - 0s 55us/step - loss: 4.0032e-04\n",
      "Epoch 12/100\n",
      "18/18 [==============================] - 0s 54us/step - loss: 3.9513e-04\n",
      "Epoch 13/100\n",
      "18/18 [==============================] - 0s 111us/step - loss: 3.9032e-04\n",
      "Epoch 14/100\n",
      "18/18 [==============================] - 0s 110us/step - loss: 3.8585e-04\n",
      "Epoch 15/100\n",
      "18/18 [==============================] - 0s 55us/step - loss: 3.8172e-04\n",
      "Epoch 16/100\n",
      "18/18 [==============================] - 0s 55us/step - loss: 3.7788e-04\n",
      "Epoch 17/100\n",
      "18/18 [==============================] - 0s 111us/step - loss: 3.7432e-04\n",
      "Epoch 18/100\n",
      "18/18 [==============================] - 0s 55us/step - loss: 3.7102e-04\n",
      "Epoch 19/100\n",
      "18/18 [==============================] - 0s 111us/step - loss: 3.6795e-04\n",
      "Epoch 20/100\n",
      "18/18 [==============================] - 0s 55us/step - loss: 3.6510e-04\n",
      "Epoch 21/100\n",
      "18/18 [==============================] - 0s 55us/step - loss: 3.6246e-04\n",
      "Epoch 22/100\n",
      "18/18 [==============================] - 0s 55us/step - loss: 3.6001e-04\n",
      "Epoch 23/100\n",
      "18/18 [==============================] - 0s 55us/step - loss: 3.5773e-04\n",
      "Epoch 24/100\n",
      "18/18 [==============================] - 0s 54us/step - loss: 3.5562e-04\n",
      "Epoch 25/100\n",
      "18/18 [==============================] - 0s 111us/step - loss: 3.5365e-04\n",
      "Epoch 26/100\n",
      "18/18 [==============================] - 0s 56us/step - loss: 3.5182e-04\n",
      "Epoch 27/100\n",
      "18/18 [==============================] - 0s 54us/step - loss: 3.5012e-04\n",
      "Epoch 28/100\n",
      "18/18 [==============================] - 0s 55us/step - loss: 3.4854e-04\n",
      "Epoch 29/100\n",
      "18/18 [==============================] - 0s 55us/step - loss: 3.4707e-04\n",
      "Epoch 30/100\n",
      "18/18 [==============================] - 0s 111us/step - loss: 3.4570e-04\n",
      "Epoch 31/100\n",
      "18/18 [==============================] - 0s 56us/step - loss: 3.4443e-04\n",
      "Epoch 32/100\n",
      "18/18 [==============================] - 0s 55us/step - loss: 3.4324e-04\n",
      "Epoch 33/100\n",
      "18/18 [==============================] - 0s 111us/step - loss: 3.4213e-04\n",
      "Epoch 34/100\n",
      "18/18 [==============================] - 0s 55us/step - loss: 3.4110e-04\n",
      "Epoch 35/100\n",
      "18/18 [==============================] - 0s 55us/step - loss: 3.4013e-04\n",
      "Epoch 36/100\n",
      "18/18 [==============================] - 0s 55us/step - loss: 3.3923e-04\n",
      "Epoch 37/100\n",
      "18/18 [==============================] - 0s 55us/step - loss: 3.3839e-04\n",
      "Epoch 38/100\n",
      "18/18 [==============================] - 0s 55us/step - loss: 3.3760e-04\n",
      "Epoch 39/100\n",
      "18/18 [==============================] - 0s 55us/step - loss: 3.3687e-04\n",
      "Epoch 40/100\n",
      "18/18 [==============================] - 0s 56us/step - loss: 3.3618e-04\n",
      "Epoch 41/100\n",
      "18/18 [==============================] - 0s 55us/step - loss: 3.3554e-04\n",
      "Epoch 42/100\n",
      "18/18 [==============================] - 0s 111us/step - loss: 3.3493e-04\n",
      "Epoch 43/100\n",
      "18/18 [==============================] - 0s 55us/step - loss: 3.3436e-04\n",
      "Epoch 44/100\n",
      "18/18 [==============================] - 0s 55us/step - loss: 3.3383e-04\n",
      "Epoch 45/100\n",
      "18/18 [==============================] - 0s 111us/step - loss: 3.3333e-04\n",
      "Epoch 46/100\n",
      "18/18 [==============================] - 0s 55us/step - loss: 3.3286e-04\n",
      "Epoch 47/100\n",
      "18/18 [==============================] - 0s 55us/step - loss: 3.3241e-04\n",
      "Epoch 48/100\n",
      "18/18 [==============================] - 0s 56us/step - loss: 3.3199e-04\n",
      "Epoch 49/100\n",
      "18/18 [==============================] - 0s 56us/step - loss: 3.3160e-04\n",
      "Epoch 50/100\n",
      "18/18 [==============================] - 0s 55us/step - loss: 3.3122e-04\n",
      "Epoch 51/100\n",
      "18/18 [==============================] - 0s 111us/step - loss: 3.3087e-04\n",
      "Epoch 52/100\n",
      "18/18 [==============================] - 0s 111us/step - loss: 3.3053e-04\n",
      "Epoch 53/100\n",
      "18/18 [==============================] - 0s 55us/step - loss: 3.3021e-04\n",
      "Epoch 54/100\n",
      "18/18 [==============================] - 0s 111us/step - loss: 3.2991e-04\n",
      "Epoch 55/100\n",
      "18/18 [==============================] - 0s 55us/step - loss: 3.2962e-04\n",
      "Epoch 56/100\n",
      "18/18 [==============================] - 0s 56us/step - loss: 3.2935e-04\n",
      "Epoch 57/100\n",
      "18/18 [==============================] - 0s 55us/step - loss: 3.2908e-04\n",
      "Epoch 58/100\n",
      "18/18 [==============================] - 0s 55us/step - loss: 3.2883e-04\n",
      "Epoch 59/100\n",
      "18/18 [==============================] - 0s 55us/step - loss: 3.2859e-04\n",
      "Epoch 60/100\n",
      "18/18 [==============================] - 0s 55us/step - loss: 3.2836e-04\n",
      "Epoch 61/100\n",
      "18/18 [==============================] - 0s 55us/step - loss: 3.2814e-04\n",
      "Epoch 62/100\n",
      "18/18 [==============================] - 0s 55us/step - loss: 3.2793e-04\n",
      "Epoch 63/100\n",
      "18/18 [==============================] - 0s 55us/step - loss: 3.2773e-04\n",
      "Epoch 64/100\n",
      "18/18 [==============================] - 0s 111us/step - loss: 3.2753e-04\n",
      "Epoch 65/100\n",
      "18/18 [==============================] - 0s 55us/step - loss: 3.2734e-04\n",
      "Epoch 66/100\n",
      "18/18 [==============================] - 0s 55us/step - loss: 3.2716e-04\n",
      "Epoch 67/100\n",
      "18/18 [==============================] - 0s 55us/step - loss: 3.2698e-04\n",
      "Epoch 68/100\n",
      "18/18 [==============================] - 0s 55us/step - loss: 3.2681e-04\n",
      "Epoch 69/100\n",
      "18/18 [==============================] - 0s 55us/step - loss: 3.2664e-04\n",
      "Epoch 70/100\n",
      "18/18 [==============================] - 0s 111us/step - loss: 3.2648e-04\n",
      "Epoch 71/100\n",
      "18/18 [==============================] - 0s 55us/step - loss: 3.2632e-04\n",
      "Epoch 72/100\n",
      "18/18 [==============================] - 0s 111us/step - loss: 3.2616e-04\n",
      "Epoch 73/100\n",
      "18/18 [==============================] - 0s 55us/step - loss: 3.2601e-04\n",
      "Epoch 74/100\n",
      "18/18 [==============================] - 0s 55us/step - loss: 3.2586e-04\n",
      "Epoch 75/100\n",
      "18/18 [==============================] - 0s 55us/step - loss: 3.2572e-04\n",
      "Epoch 76/100\n",
      "18/18 [==============================] - 0s 55us/step - loss: 3.2558e-04\n",
      "Epoch 77/100\n",
      "18/18 [==============================] - 0s 54us/step - loss: 3.2544e-04\n",
      "Epoch 78/100\n",
      "18/18 [==============================] - 0s 55us/step - loss: 3.2530e-04\n",
      "Epoch 79/100\n",
      "18/18 [==============================] - 0s 55us/step - loss: 3.2517e-04\n",
      "Epoch 80/100\n",
      "18/18 [==============================] - 0s 111us/step - loss: 3.2503e-04\n",
      "Epoch 81/100\n",
      "18/18 [==============================] - 0s 55us/step - loss: 3.2490e-04\n",
      "Epoch 82/100\n",
      "18/18 [==============================] - 0s 55us/step - loss: 3.2478e-04\n",
      "Epoch 83/100\n",
      "18/18 [==============================] - 0s 55us/step - loss: 3.2465e-04\n",
      "Epoch 84/100\n",
      "18/18 [==============================] - 0s 55us/step - loss: 3.2452e-04\n",
      "Epoch 85/100\n",
      "18/18 [==============================] - 0s 55us/step - loss: 3.2440e-04\n",
      "Epoch 86/100\n",
      "18/18 [==============================] - 0s 55us/step - loss: 3.2428e-04\n",
      "Epoch 87/100\n",
      "18/18 [==============================] - 0s 111us/step - loss: 3.2416e-04\n",
      "Epoch 88/100\n",
      "18/18 [==============================] - 0s 111us/step - loss: 3.2404e-04\n",
      "Epoch 89/100\n",
      "18/18 [==============================] - 0s 111us/step - loss: 3.2392e-04\n",
      "Epoch 90/100\n",
      "18/18 [==============================] - 0s 55us/step - loss: 3.2380e-04\n",
      "Epoch 91/100\n",
      "18/18 [==============================] - 0s 55us/step - loss: 3.2369e-04\n",
      "Epoch 92/100\n",
      "18/18 [==============================] - 0s 55us/step - loss: 3.2357e-04\n",
      "Epoch 93/100\n",
      "18/18 [==============================] - 0s 0us/step - loss: 3.2346e-04\n",
      "Epoch 94/100\n",
      "18/18 [==============================] - 0s 55us/step - loss: 3.2334e-04\n",
      "Epoch 95/100\n",
      "18/18 [==============================] - 0s 56us/step - loss: 3.2323e-04\n",
      "Epoch 96/100\n",
      "18/18 [==============================] - 0s 55us/step - loss: 3.2312e-04\n"
     ]
    },
    {
     "name": "stdout",
     "output_type": "stream",
     "text": [
      "Epoch 97/100\n",
      "18/18 [==============================] - 0s 111us/step - loss: 3.2300e-04\n",
      "Epoch 98/100\n",
      "18/18 [==============================] - 0s 55us/step - loss: 3.2289e-04\n",
      "Epoch 99/100\n",
      "18/18 [==============================] - 0s 55us/step - loss: 3.2278e-04\n",
      "Epoch 100/100\n",
      "18/18 [==============================] - 0s 111us/step - loss: 3.2267e-04\n"
     ]
    }
   ],
   "source": [
    "history3 = model3.fit(X_train, Y_train, epochs=100) "
   ]
  },
  {
   "cell_type": "code",
   "execution_count": 39,
   "metadata": {},
   "outputs": [
    {
     "data": {
      "image/png": "[encoded data removed]",
      "text/plain": [
       "<Figure size 432x288 with 1 Axes>"
      ]
     },
     "metadata": {
      "needs_background": "light"
     },
     "output_type": "display_data"
    }
   ],
   "source": [
    "plt.plot(Y_train, 'ro-', label=\"target\")\n",
    "plt.plot(model3.predict(X_train[:, :, :]), 'bs-', label=\"output\")\n",
    "plt.xlim(-0.5, 20.5)\n",
    "plt.ylim(-1.1, 1.1)\n",
    "plt.legend()\n",
    "plt.title(\"After training\")\n",
    "plt.show() "
   ]
  },
  {
   "cell_type": "code",
   "execution_count": null,
   "metadata": {},
   "outputs": [],
   "source": []
  },
  {
   "cell_type": "code",
   "execution_count": null,
   "metadata": {},
   "outputs": [],
   "source": []
  }
 ],
 "metadata": {
  "kernelspec": {
   "display_name": "Python 3",
   "language": "python",
   "name": "python3"
  },
  "language_info": {
   "codemirror_mode": {
    "name": "ipython",
    "version": 3
   },
   "file_extension": ".py",
   "mimetype": "text/x-python",
   "name": "python",
   "nbconvert_exporter": "python",
   "pygments_lexer": "ipython3",
   "version": "3.7.7"
  }
 },
 "nbformat": 4,
 "nbformat_minor": 2
}
